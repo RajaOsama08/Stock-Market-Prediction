{
  "nbformat": 4,
  "nbformat_minor": 0,
  "metadata": {
    "colab": {
      "provenance": [],
      "authorship_tag": "ABX9TyM3J/r8TEx0+WxEx8oD23+w",
      "include_colab_link": true
    },
    "kernelspec": {
      "name": "python3",
      "display_name": "Python 3"
    },
    "language_info": {
      "name": "python"
    }
  },
  "cells": [
    {
      "cell_type": "markdown",
      "metadata": {
        "id": "view-in-github",
        "colab_type": "text"
      },
      "source": [
        "<a href=\"https://colab.research.google.com/github/RajaOsama08/Stock-Market-Prediction/blob/main/Stock_market_Prediction.ipynb\" target=\"_parent\"><img src=\"https://colab.research.google.com/assets/colab-badge.svg\" alt=\"Open In Colab\"/></a>"
      ]
    },
    {
      "cell_type": "code",
      "execution_count": 1,
      "metadata": {
        "id": "ejc2GG2xdLDq"
      },
      "outputs": [],
      "source": [
        "import pandas as pd\n",
        "import numpy as np\n",
        "from datetime import datetime\n",
        "#import lib for K-NN\n",
        "from sklearn.neighbors import KNeighborsRegressor\n",
        "#import lib for XGBoost\n",
        "from xgboost import XGBRegressor\n",
        "\n",
        "from sklearn.preprocessing import MinMaxScaler\n",
        "from sklearn.model_selection import train_test_split, GridSearchCV\n",
        "from sklearn.metrics import mean_squared_error,r2_score,mean_absolute_error\n",
        "#import lib for LSTM model\n",
        "import tensorflow as tf\n",
        "from tensorflow.keras.models import Sequential\n",
        "from tensorflow.keras.layers import LSTM, Dense, Dropout\n",
        "# import lib for random forest model\n",
        "from sklearn.ensemble import RandomForestRegressor\n",
        "\n"
      ]
    },
    {
      "cell_type": "code",
      "source": [
        "from google.colab import drive\n",
        "drive.mount('/content/drive')"
      ],
      "metadata": {
        "colab": {
          "base_uri": "https://localhost:8080/"
        },
        "id": "22shwjXRjCF5",
        "outputId": "6f064aa2-c629-4541-e1cf-e4d4aab9e886"
      },
      "execution_count": 2,
      "outputs": [
        {
          "output_type": "stream",
          "name": "stdout",
          "text": [
            "Mounted at /content/drive\n"
          ]
        }
      ]
    },
    {
      "cell_type": "code",
      "source": [
        "# Define the file paths\n",
        "file_paths = {\n",
        "    'AAPL': '/content/drive/MyDrive/stock_data_set/AAPL.csv',\n",
        "    'CSCO': '/content/drive/MyDrive/stock_data_set/CSCO.csv',\n",
        "    'INTC': '/content/drive/MyDrive/stock_data_set/INTC.csv',\n",
        "    'NVDA': '/content/drive/MyDrive/stock_data_set/NVDA.csv',\n",
        "    'SAP': '/content/drive/MyDrive/stock_data_set/SAP.csv'\n",
        "}\n",
        "\n",
        "# Load the datasets into pandas DataFrames\n",
        "dataframes = {symbol: pd.read_csv(path) for symbol, path in file_paths.items()}\n",
        "\n",
        "# Display the first few rows of each DataFrame\n",
        "for symbol, df in dataframes.items():\n",
        "    print(f\"First few rows of {symbol} DataFrame:\")\n",
        "    print(df.head())\n",
        "    print(\"\\n\")\n",
        "\n",
        "# Display the first few rows of the DataFrame\n",
        "print(df.head())"
      ],
      "metadata": {
        "colab": {
          "base_uri": "https://localhost:8080/"
        },
        "id": "fe0QwBwtj1n3",
        "outputId": "b45372c1-a7b3-45ee-fd23-951fa5b7ea5f"
      },
      "execution_count": 3,
      "outputs": [
        {
          "output_type": "stream",
          "name": "stdout",
          "text": [
            "First few rows of AAPL DataFrame:\n",
            "         Date       Open       High        Low      Close  Adj Close  \\\n",
            "0  2014-06-02  22.641430  22.672501  22.232143  22.451786  19.859396   \n",
            "1  2014-06-03  22.445000  22.812143  22.437500  22.769285  20.140236   \n",
            "2  2014-06-04  22.765715  23.138929  22.718214  23.029285  20.370214   \n",
            "3  2014-06-05  23.078571  23.191786  22.950357  23.119642  20.450136   \n",
            "4  2014-06-06  23.210714  23.259287  23.016787  23.056070  20.393915   \n",
            "\n",
            "      Volume  \n",
            "0  369350800  \n",
            "1  292709200  \n",
            "2  335482000  \n",
            "3  303805600  \n",
            "4  349938400  \n",
            "\n",
            "\n",
            "First few rows of CSCO DataFrame:\n",
            "         Date       Open       High        Low      Close  Adj Close    Volume\n",
            "0  2014-06-02  24.639999  24.799999  24.559999  24.780001  18.135729  20393300\n",
            "1  2014-06-03  24.750000  24.820000  24.450001  24.680000  18.062546  23339100\n",
            "2  2014-06-04  24.610001  24.650000  24.400000  24.500000  17.930799  20635100\n",
            "3  2014-06-05  24.620001  24.740000  24.410000  24.700001  18.077187  23320300\n",
            "4  2014-06-06  24.730000  24.950001  24.709999  24.830000  18.172319  22485100\n",
            "\n",
            "\n",
            "First few rows of INTC DataFrame:\n",
            "         Date       Open       High        Low  Close  Adj Close    Volume\n",
            "0  2014-06-02  27.309999  27.350000  27.120001  27.26  20.772064  20264900\n",
            "1  2014-06-03  27.219999  27.700001  27.120001  27.66  21.076866  33256300\n",
            "2  2014-06-04  27.510000  27.760000  27.500000  27.60  21.031143  21612500\n",
            "3  2014-06-05  27.559999  27.660000  27.430000  27.66  21.076866  26546200\n",
            "4  2014-06-06  27.780001  28.209999  27.730000  28.17  21.465483  34795600\n",
            "\n",
            "\n",
            "First few rows of NVDA DataFrame:\n",
            "         Date     Open    High      Low    Close  Adj Close     Volume\n",
            "0  2014-06-02  0.47650  0.4795  0.46950  0.47350   0.450742  181500000\n",
            "1  2014-06-03  0.47450  0.4750  0.46525  0.47150   0.448839  243212000\n",
            "2  2014-06-04  0.47025  0.4755  0.47000  0.47200   0.449315  161236000\n",
            "3  2014-06-05  0.47275  0.4755  0.47000  0.47400   0.451218  188696000\n",
            "4  2014-06-06  0.47625  0.4800  0.47450  0.47575   0.452884  161052000\n",
            "\n",
            "\n",
            "First few rows of SAP DataFrame:\n",
            "         Date       Open       High        Low      Close  Adj Close   Volume\n",
            "0  2014-06-02  76.129997  76.180000  75.639999  75.779999  64.404167   537200\n",
            "1  2014-06-03  76.110001  76.470001  76.000000  76.349998  64.888596   430300\n",
            "2  2014-06-04  75.470001  75.739998  75.250000  75.379997  64.064201  1367500\n",
            "3  2014-06-05  75.209999  75.900002  74.970001  75.750000  64.378670   593700\n",
            "4  2014-06-06  75.470001  75.489998  74.970001  75.260002  63.962227  1112400\n",
            "\n",
            "\n",
            "         Date       Open       High        Low      Close  Adj Close   Volume\n",
            "0  2014-06-02  76.129997  76.180000  75.639999  75.779999  64.404167   537200\n",
            "1  2014-06-03  76.110001  76.470001  76.000000  76.349998  64.888596   430300\n",
            "2  2014-06-04  75.470001  75.739998  75.250000  75.379997  64.064201  1367500\n",
            "3  2014-06-05  75.209999  75.900002  74.970001  75.750000  64.378670   593700\n",
            "4  2014-06-06  75.470001  75.489998  74.970001  75.260002  63.962227  1112400\n"
          ]
        }
      ]
    },
    {
      "cell_type": "code",
      "source": [
        "df1 = dataframes['AAPL']\n",
        "df2 = dataframes['CSCO']\n",
        "df3 = dataframes['INTC']\n",
        "df4 = dataframes['NVDA']\n",
        "df5 = dataframes['SAP']\n",
        "print(df1)"
      ],
      "metadata": {
        "colab": {
          "base_uri": "https://localhost:8080/"
        },
        "id": "ZkeqkRsVFenh",
        "outputId": "a2d039cd-f211-46e7-e934-bd5c48268692"
      },
      "execution_count": 4,
      "outputs": [
        {
          "output_type": "stream",
          "name": "stdout",
          "text": [
            "            Date        Open        High         Low       Close   Adj Close  \\\n",
            "0     2014-06-02   22.641430   22.672501   22.232143   22.451786   19.859396   \n",
            "1     2014-06-03   22.445000   22.812143   22.437500   22.769285   20.140236   \n",
            "2     2014-06-04   22.765715   23.138929   22.718214   23.029285   20.370214   \n",
            "3     2014-06-05   23.078571   23.191786   22.950357   23.119642   20.450136   \n",
            "4     2014-06-06   23.210714   23.259287   23.016787   23.056070   20.393915   \n",
            "...          ...         ...         ...         ...         ...         ...   \n",
            "2513  2024-05-24  188.820007  190.580002  188.039993  189.979996  189.979996   \n",
            "2514  2024-05-28  191.509995  193.000000  189.100006  189.990005  189.990005   \n",
            "2515  2024-05-29  189.610001  192.250000  189.509995  190.289993  190.289993   \n",
            "2516  2024-05-30  190.759995  192.179993  190.630005  191.289993  191.289993   \n",
            "2517  2024-05-31  191.440002  192.570007  189.910004  192.250000  192.250000   \n",
            "\n",
            "         Volume  \n",
            "0     369350800  \n",
            "1     292709200  \n",
            "2     335482000  \n",
            "3     303805600  \n",
            "4     349938400  \n",
            "...         ...  \n",
            "2513   36294600  \n",
            "2514   52280100  \n",
            "2515   53068000  \n",
            "2516   49947900  \n",
            "2517   75158300  \n",
            "\n",
            "[2518 rows x 7 columns]\n"
          ]
        }
      ]
    },
    {
      "cell_type": "code",
      "source": [
        "df1['Date'] = pd.to_datetime(df1['Date'])\n",
        "print('first print',df1)\n",
        "print('\\n')\n",
        "df1.set_index('Date', inplace=True)\n",
        "print('second print',df1)\n",
        "print('\\n')"
      ],
      "metadata": {
        "colab": {
          "base_uri": "https://localhost:8080/"
        },
        "id": "34Ir1ghjZlL7",
        "outputId": "9b5f5ef1-bfba-49ad-8b4d-e972192ea1ba"
      },
      "execution_count": 5,
      "outputs": [
        {
          "output_type": "stream",
          "name": "stdout",
          "text": [
            "first print            Date        Open        High         Low       Close   Adj Close  \\\n",
            "0    2014-06-02   22.641430   22.672501   22.232143   22.451786   19.859396   \n",
            "1    2014-06-03   22.445000   22.812143   22.437500   22.769285   20.140236   \n",
            "2    2014-06-04   22.765715   23.138929   22.718214   23.029285   20.370214   \n",
            "3    2014-06-05   23.078571   23.191786   22.950357   23.119642   20.450136   \n",
            "4    2014-06-06   23.210714   23.259287   23.016787   23.056070   20.393915   \n",
            "...         ...         ...         ...         ...         ...         ...   \n",
            "2513 2024-05-24  188.820007  190.580002  188.039993  189.979996  189.979996   \n",
            "2514 2024-05-28  191.509995  193.000000  189.100006  189.990005  189.990005   \n",
            "2515 2024-05-29  189.610001  192.250000  189.509995  190.289993  190.289993   \n",
            "2516 2024-05-30  190.759995  192.179993  190.630005  191.289993  191.289993   \n",
            "2517 2024-05-31  191.440002  192.570007  189.910004  192.250000  192.250000   \n",
            "\n",
            "         Volume  \n",
            "0     369350800  \n",
            "1     292709200  \n",
            "2     335482000  \n",
            "3     303805600  \n",
            "4     349938400  \n",
            "...         ...  \n",
            "2513   36294600  \n",
            "2514   52280100  \n",
            "2515   53068000  \n",
            "2516   49947900  \n",
            "2517   75158300  \n",
            "\n",
            "[2518 rows x 7 columns]\n",
            "\n",
            "\n",
            "second print                   Open        High         Low       Close   Adj Close  \\\n",
            "Date                                                                     \n",
            "2014-06-02   22.641430   22.672501   22.232143   22.451786   19.859396   \n",
            "2014-06-03   22.445000   22.812143   22.437500   22.769285   20.140236   \n",
            "2014-06-04   22.765715   23.138929   22.718214   23.029285   20.370214   \n",
            "2014-06-05   23.078571   23.191786   22.950357   23.119642   20.450136   \n",
            "2014-06-06   23.210714   23.259287   23.016787   23.056070   20.393915   \n",
            "...                ...         ...         ...         ...         ...   \n",
            "2024-05-24  188.820007  190.580002  188.039993  189.979996  189.979996   \n",
            "2024-05-28  191.509995  193.000000  189.100006  189.990005  189.990005   \n",
            "2024-05-29  189.610001  192.250000  189.509995  190.289993  190.289993   \n",
            "2024-05-30  190.759995  192.179993  190.630005  191.289993  191.289993   \n",
            "2024-05-31  191.440002  192.570007  189.910004  192.250000  192.250000   \n",
            "\n",
            "               Volume  \n",
            "Date                   \n",
            "2014-06-02  369350800  \n",
            "2014-06-03  292709200  \n",
            "2014-06-04  335482000  \n",
            "2014-06-05  303805600  \n",
            "2014-06-06  349938400  \n",
            "...               ...  \n",
            "2024-05-24   36294600  \n",
            "2024-05-28   52280100  \n",
            "2024-05-29   53068000  \n",
            "2024-05-30   49947900  \n",
            "2024-05-31   75158300  \n",
            "\n",
            "[2518 rows x 6 columns]\n",
            "\n",
            "\n"
          ]
        }
      ]
    },
    {
      "cell_type": "markdown",
      "source": [
        "**Handling missing values**"
      ],
      "metadata": {
        "id": "C_0NsEeCeP1a"
      }
    },
    {
      "cell_type": "code",
      "source": [
        "# Check for missing values\n",
        "missing_values = df1.isnull().sum()\n",
        "print(missing_values)"
      ],
      "metadata": {
        "colab": {
          "base_uri": "https://localhost:8080/"
        },
        "id": "-iceBmrba2X4",
        "outputId": "d0464251-5103-424a-f382-5fd16d52749a"
      },
      "execution_count": 6,
      "outputs": [
        {
          "output_type": "stream",
          "name": "stdout",
          "text": [
            "Open         0\n",
            "High         0\n",
            "Low          0\n",
            "Close        0\n",
            "Adj Close    0\n",
            "Volume       0\n",
            "dtype: int64\n"
          ]
        }
      ]
    },
    {
      "cell_type": "markdown",
      "source": [
        "**Feature Engineerig**\n",
        "\n"
      ],
      "metadata": {
        "id": "wZbaOVgxd6H-"
      }
    },
    {
      "cell_type": "code",
      "source": [
        "# Moving averages\n",
        "# df1['MA10'] = df1['Adj Close'].rolling(window=10).mean()\n",
        "# df1['MA50'] = df1['Adj Close'].rolling(window=50).mean()\n",
        "\n",
        "# # Daily returns\n",
        "# print('Daily returns')\n",
        "# df1['Daily Return'] = df1['Adj Close'].pct_change()\n",
        "\n",
        "# # Volatility\n",
        "# print('volatility')\n",
        "# df1['Volatility'] = df1['Daily Return'].rolling(window=10).std()\n",
        "\n",
        "# print(df1)"
      ],
      "metadata": {
        "id": "_ffzTCsndgvN"
      },
      "execution_count": 7,
      "outputs": []
    },
    {
      "cell_type": "code",
      "source": [
        "df1.describe()"
      ],
      "metadata": {
        "colab": {
          "base_uri": "https://localhost:8080/",
          "height": 300
        },
        "id": "XaI5EoANnz8s",
        "outputId": "bcef3d8e-a067-4e58-b089-5ece0ac9c723"
      },
      "execution_count": 8,
      "outputs": [
        {
          "output_type": "execute_result",
          "data": {
            "text/plain": [
              "              Open         High          Low        Close    Adj Close  \\\n",
              "count  2518.000000  2518.000000  2518.000000  2518.000000  2518.000000   \n",
              "mean     84.508962    85.410833    83.658418    84.571586    82.523540   \n",
              "std      58.391642    59.014316    57.809549    58.437072    58.895952   \n",
              "min      22.445000    22.672501    22.232143    22.451786    19.859396   \n",
              "25%      32.028126    32.265625    31.756876    31.984374    28.776829   \n",
              "50%      52.465000    52.986250    51.877500    52.358750    50.572672   \n",
              "75%     144.029999   146.444996   142.649994   144.742504   142.913410   \n",
              "max     198.020004   199.619995   197.000000   198.110001   197.589523   \n",
              "\n",
              "             Volume  \n",
              "count  2.518000e+03  \n",
              "mean   1.264485e+08  \n",
              "std    7.264746e+07  \n",
              "min    2.404830e+07  \n",
              "25%    7.673740e+07  \n",
              "50%    1.069804e+08  \n",
              "75%    1.550671e+08  \n",
              "max    7.593852e+08  "
            ],
            "text/html": [
              "\n",
              "  <div id=\"df-3cdb34fc-6529-47a3-a7ee-e4cf135889cd\" class=\"colab-df-container\">\n",
              "    <div>\n",
              "<style scoped>\n",
              "    .dataframe tbody tr th:only-of-type {\n",
              "        vertical-align: middle;\n",
              "    }\n",
              "\n",
              "    .dataframe tbody tr th {\n",
              "        vertical-align: top;\n",
              "    }\n",
              "\n",
              "    .dataframe thead th {\n",
              "        text-align: right;\n",
              "    }\n",
              "</style>\n",
              "<table border=\"1\" class=\"dataframe\">\n",
              "  <thead>\n",
              "    <tr style=\"text-align: right;\">\n",
              "      <th></th>\n",
              "      <th>Open</th>\n",
              "      <th>High</th>\n",
              "      <th>Low</th>\n",
              "      <th>Close</th>\n",
              "      <th>Adj Close</th>\n",
              "      <th>Volume</th>\n",
              "    </tr>\n",
              "  </thead>\n",
              "  <tbody>\n",
              "    <tr>\n",
              "      <th>count</th>\n",
              "      <td>2518.000000</td>\n",
              "      <td>2518.000000</td>\n",
              "      <td>2518.000000</td>\n",
              "      <td>2518.000000</td>\n",
              "      <td>2518.000000</td>\n",
              "      <td>2.518000e+03</td>\n",
              "    </tr>\n",
              "    <tr>\n",
              "      <th>mean</th>\n",
              "      <td>84.508962</td>\n",
              "      <td>85.410833</td>\n",
              "      <td>83.658418</td>\n",
              "      <td>84.571586</td>\n",
              "      <td>82.523540</td>\n",
              "      <td>1.264485e+08</td>\n",
              "    </tr>\n",
              "    <tr>\n",
              "      <th>std</th>\n",
              "      <td>58.391642</td>\n",
              "      <td>59.014316</td>\n",
              "      <td>57.809549</td>\n",
              "      <td>58.437072</td>\n",
              "      <td>58.895952</td>\n",
              "      <td>7.264746e+07</td>\n",
              "    </tr>\n",
              "    <tr>\n",
              "      <th>min</th>\n",
              "      <td>22.445000</td>\n",
              "      <td>22.672501</td>\n",
              "      <td>22.232143</td>\n",
              "      <td>22.451786</td>\n",
              "      <td>19.859396</td>\n",
              "      <td>2.404830e+07</td>\n",
              "    </tr>\n",
              "    <tr>\n",
              "      <th>25%</th>\n",
              "      <td>32.028126</td>\n",
              "      <td>32.265625</td>\n",
              "      <td>31.756876</td>\n",
              "      <td>31.984374</td>\n",
              "      <td>28.776829</td>\n",
              "      <td>7.673740e+07</td>\n",
              "    </tr>\n",
              "    <tr>\n",
              "      <th>50%</th>\n",
              "      <td>52.465000</td>\n",
              "      <td>52.986250</td>\n",
              "      <td>51.877500</td>\n",
              "      <td>52.358750</td>\n",
              "      <td>50.572672</td>\n",
              "      <td>1.069804e+08</td>\n",
              "    </tr>\n",
              "    <tr>\n",
              "      <th>75%</th>\n",
              "      <td>144.029999</td>\n",
              "      <td>146.444996</td>\n",
              "      <td>142.649994</td>\n",
              "      <td>144.742504</td>\n",
              "      <td>142.913410</td>\n",
              "      <td>1.550671e+08</td>\n",
              "    </tr>\n",
              "    <tr>\n",
              "      <th>max</th>\n",
              "      <td>198.020004</td>\n",
              "      <td>199.619995</td>\n",
              "      <td>197.000000</td>\n",
              "      <td>198.110001</td>\n",
              "      <td>197.589523</td>\n",
              "      <td>7.593852e+08</td>\n",
              "    </tr>\n",
              "  </tbody>\n",
              "</table>\n",
              "</div>\n",
              "    <div class=\"colab-df-buttons\">\n",
              "\n",
              "  <div class=\"colab-df-container\">\n",
              "    <button class=\"colab-df-convert\" onclick=\"convertToInteractive('df-3cdb34fc-6529-47a3-a7ee-e4cf135889cd')\"\n",
              "            title=\"Convert this dataframe to an interactive table.\"\n",
              "            style=\"display:none;\">\n",
              "\n",
              "  <svg xmlns=\"http://www.w3.org/2000/svg\" height=\"24px\" viewBox=\"0 -960 960 960\">\n",
              "    <path d=\"M120-120v-720h720v720H120Zm60-500h600v-160H180v160Zm220 220h160v-160H400v160Zm0 220h160v-160H400v160ZM180-400h160v-160H180v160Zm440 0h160v-160H620v160ZM180-180h160v-160H180v160Zm440 0h160v-160H620v160Z\"/>\n",
              "  </svg>\n",
              "    </button>\n",
              "\n",
              "  <style>\n",
              "    .colab-df-container {\n",
              "      display:flex;\n",
              "      gap: 12px;\n",
              "    }\n",
              "\n",
              "    .colab-df-convert {\n",
              "      background-color: #E8F0FE;\n",
              "      border: none;\n",
              "      border-radius: 50%;\n",
              "      cursor: pointer;\n",
              "      display: none;\n",
              "      fill: #1967D2;\n",
              "      height: 32px;\n",
              "      padding: 0 0 0 0;\n",
              "      width: 32px;\n",
              "    }\n",
              "\n",
              "    .colab-df-convert:hover {\n",
              "      background-color: #E2EBFA;\n",
              "      box-shadow: 0px 1px 2px rgba(60, 64, 67, 0.3), 0px 1px 3px 1px rgba(60, 64, 67, 0.15);\n",
              "      fill: #174EA6;\n",
              "    }\n",
              "\n",
              "    .colab-df-buttons div {\n",
              "      margin-bottom: 4px;\n",
              "    }\n",
              "\n",
              "    [theme=dark] .colab-df-convert {\n",
              "      background-color: #3B4455;\n",
              "      fill: #D2E3FC;\n",
              "    }\n",
              "\n",
              "    [theme=dark] .colab-df-convert:hover {\n",
              "      background-color: #434B5C;\n",
              "      box-shadow: 0px 1px 3px 1px rgba(0, 0, 0, 0.15);\n",
              "      filter: drop-shadow(0px 1px 2px rgba(0, 0, 0, 0.3));\n",
              "      fill: #FFFFFF;\n",
              "    }\n",
              "  </style>\n",
              "\n",
              "    <script>\n",
              "      const buttonEl =\n",
              "        document.querySelector('#df-3cdb34fc-6529-47a3-a7ee-e4cf135889cd button.colab-df-convert');\n",
              "      buttonEl.style.display =\n",
              "        google.colab.kernel.accessAllowed ? 'block' : 'none';\n",
              "\n",
              "      async function convertToInteractive(key) {\n",
              "        const element = document.querySelector('#df-3cdb34fc-6529-47a3-a7ee-e4cf135889cd');\n",
              "        const dataTable =\n",
              "          await google.colab.kernel.invokeFunction('convertToInteractive',\n",
              "                                                    [key], {});\n",
              "        if (!dataTable) return;\n",
              "\n",
              "        const docLinkHtml = 'Like what you see? Visit the ' +\n",
              "          '<a target=\"_blank\" href=https://colab.research.google.com/notebooks/data_table.ipynb>data table notebook</a>'\n",
              "          + ' to learn more about interactive tables.';\n",
              "        element.innerHTML = '';\n",
              "        dataTable['output_type'] = 'display_data';\n",
              "        await google.colab.output.renderOutput(dataTable, element);\n",
              "        const docLink = document.createElement('div');\n",
              "        docLink.innerHTML = docLinkHtml;\n",
              "        element.appendChild(docLink);\n",
              "      }\n",
              "    </script>\n",
              "  </div>\n",
              "\n",
              "\n",
              "<div id=\"df-2c7e768a-3fbe-4c3a-83fd-451bb9728ce0\">\n",
              "  <button class=\"colab-df-quickchart\" onclick=\"quickchart('df-2c7e768a-3fbe-4c3a-83fd-451bb9728ce0')\"\n",
              "            title=\"Suggest charts\"\n",
              "            style=\"display:none;\">\n",
              "\n",
              "<svg xmlns=\"http://www.w3.org/2000/svg\" height=\"24px\"viewBox=\"0 0 24 24\"\n",
              "     width=\"24px\">\n",
              "    <g>\n",
              "        <path d=\"M19 3H5c-1.1 0-2 .9-2 2v14c0 1.1.9 2 2 2h14c1.1 0 2-.9 2-2V5c0-1.1-.9-2-2-2zM9 17H7v-7h2v7zm4 0h-2V7h2v10zm4 0h-2v-4h2v4z\"/>\n",
              "    </g>\n",
              "</svg>\n",
              "  </button>\n",
              "\n",
              "<style>\n",
              "  .colab-df-quickchart {\n",
              "      --bg-color: #E8F0FE;\n",
              "      --fill-color: #1967D2;\n",
              "      --hover-bg-color: #E2EBFA;\n",
              "      --hover-fill-color: #174EA6;\n",
              "      --disabled-fill-color: #AAA;\n",
              "      --disabled-bg-color: #DDD;\n",
              "  }\n",
              "\n",
              "  [theme=dark] .colab-df-quickchart {\n",
              "      --bg-color: #3B4455;\n",
              "      --fill-color: #D2E3FC;\n",
              "      --hover-bg-color: #434B5C;\n",
              "      --hover-fill-color: #FFFFFF;\n",
              "      --disabled-bg-color: #3B4455;\n",
              "      --disabled-fill-color: #666;\n",
              "  }\n",
              "\n",
              "  .colab-df-quickchart {\n",
              "    background-color: var(--bg-color);\n",
              "    border: none;\n",
              "    border-radius: 50%;\n",
              "    cursor: pointer;\n",
              "    display: none;\n",
              "    fill: var(--fill-color);\n",
              "    height: 32px;\n",
              "    padding: 0;\n",
              "    width: 32px;\n",
              "  }\n",
              "\n",
              "  .colab-df-quickchart:hover {\n",
              "    background-color: var(--hover-bg-color);\n",
              "    box-shadow: 0 1px 2px rgba(60, 64, 67, 0.3), 0 1px 3px 1px rgba(60, 64, 67, 0.15);\n",
              "    fill: var(--button-hover-fill-color);\n",
              "  }\n",
              "\n",
              "  .colab-df-quickchart-complete:disabled,\n",
              "  .colab-df-quickchart-complete:disabled:hover {\n",
              "    background-color: var(--disabled-bg-color);\n",
              "    fill: var(--disabled-fill-color);\n",
              "    box-shadow: none;\n",
              "  }\n",
              "\n",
              "  .colab-df-spinner {\n",
              "    border: 2px solid var(--fill-color);\n",
              "    border-color: transparent;\n",
              "    border-bottom-color: var(--fill-color);\n",
              "    animation:\n",
              "      spin 1s steps(1) infinite;\n",
              "  }\n",
              "\n",
              "  @keyframes spin {\n",
              "    0% {\n",
              "      border-color: transparent;\n",
              "      border-bottom-color: var(--fill-color);\n",
              "      border-left-color: var(--fill-color);\n",
              "    }\n",
              "    20% {\n",
              "      border-color: transparent;\n",
              "      border-left-color: var(--fill-color);\n",
              "      border-top-color: var(--fill-color);\n",
              "    }\n",
              "    30% {\n",
              "      border-color: transparent;\n",
              "      border-left-color: var(--fill-color);\n",
              "      border-top-color: var(--fill-color);\n",
              "      border-right-color: var(--fill-color);\n",
              "    }\n",
              "    40% {\n",
              "      border-color: transparent;\n",
              "      border-right-color: var(--fill-color);\n",
              "      border-top-color: var(--fill-color);\n",
              "    }\n",
              "    60% {\n",
              "      border-color: transparent;\n",
              "      border-right-color: var(--fill-color);\n",
              "    }\n",
              "    80% {\n",
              "      border-color: transparent;\n",
              "      border-right-color: var(--fill-color);\n",
              "      border-bottom-color: var(--fill-color);\n",
              "    }\n",
              "    90% {\n",
              "      border-color: transparent;\n",
              "      border-bottom-color: var(--fill-color);\n",
              "    }\n",
              "  }\n",
              "</style>\n",
              "\n",
              "  <script>\n",
              "    async function quickchart(key) {\n",
              "      const quickchartButtonEl =\n",
              "        document.querySelector('#' + key + ' button');\n",
              "      quickchartButtonEl.disabled = true;  // To prevent multiple clicks.\n",
              "      quickchartButtonEl.classList.add('colab-df-spinner');\n",
              "      try {\n",
              "        const charts = await google.colab.kernel.invokeFunction(\n",
              "            'suggestCharts', [key], {});\n",
              "      } catch (error) {\n",
              "        console.error('Error during call to suggestCharts:', error);\n",
              "      }\n",
              "      quickchartButtonEl.classList.remove('colab-df-spinner');\n",
              "      quickchartButtonEl.classList.add('colab-df-quickchart-complete');\n",
              "    }\n",
              "    (() => {\n",
              "      let quickchartButtonEl =\n",
              "        document.querySelector('#df-2c7e768a-3fbe-4c3a-83fd-451bb9728ce0 button');\n",
              "      quickchartButtonEl.style.display =\n",
              "        google.colab.kernel.accessAllowed ? 'block' : 'none';\n",
              "    })();\n",
              "  </script>\n",
              "</div>\n",
              "\n",
              "    </div>\n",
              "  </div>\n"
            ],
            "application/vnd.google.colaboratory.intrinsic+json": {
              "type": "dataframe",
              "summary": "{\n  \"name\": \"df1\",\n  \"rows\": 8,\n  \"fields\": [\n    {\n      \"column\": \"Open\",\n      \"properties\": {\n        \"dtype\": \"number\",\n        \"std\": 862.4042865977112,\n        \"min\": 22.445,\n        \"max\": 2518.0,\n        \"num_unique_values\": 8,\n        \"samples\": [\n          84.50896217474185,\n          52.465,\n          2518.0\n        ],\n        \"semantic_type\": \"\",\n        \"description\": \"\"\n      }\n    },\n    {\n      \"column\": \"High\",\n      \"properties\": {\n        \"dtype\": \"number\",\n        \"std\": 862.1197882760431,\n        \"min\": 22.672501,\n        \"max\": 2518.0,\n        \"num_unique_values\": 8,\n        \"samples\": [\n          85.41083293923748,\n          52.98625,\n          2518.0\n        ],\n        \"semantic_type\": \"\",\n        \"description\": \"\"\n      }\n    },\n    {\n      \"column\": \"Low\",\n      \"properties\": {\n        \"dtype\": \"number\",\n        \"std\": 862.6289269986878,\n        \"min\": 22.232143,\n        \"max\": 2518.0,\n        \"num_unique_values\": 8,\n        \"samples\": [\n          83.65841834312945,\n          51.8775005,\n          2518.0\n        ],\n        \"semantic_type\": \"\",\n        \"description\": \"\"\n      }\n    },\n    {\n      \"column\": \"Close\",\n      \"properties\": {\n        \"dtype\": \"number\",\n        \"std\": 862.3750494059752,\n        \"min\": 22.451786,\n        \"max\": 2518.0,\n        \"num_unique_values\": 8,\n        \"samples\": [\n          84.57158599960285,\n          52.3587495,\n          2518.0\n        ],\n        \"semantic_type\": \"\",\n        \"description\": \"\"\n      }\n    },\n    {\n      \"column\": \"Adj Close\",\n      \"properties\": {\n        \"dtype\": \"number\",\n        \"std\": 862.9908092009994,\n        \"min\": 19.859396,\n        \"max\": 2518.0,\n        \"num_unique_values\": 8,\n        \"samples\": [\n          82.52353986219221,\n          50.572672,\n          2518.0\n        ],\n        \"semantic_type\": \"\",\n        \"description\": \"\"\n      }\n    },\n    {\n      \"column\": \"Volume\",\n      \"properties\": {\n        \"dtype\": \"number\",\n        \"std\": 245431265.57100022,\n        \"min\": 2518.0,\n        \"max\": 759385200.0,\n        \"num_unique_values\": 8,\n        \"samples\": [\n          126448457.0293884,\n          106980350.0,\n          2518.0\n        ],\n        \"semantic_type\": \"\",\n        \"description\": \"\"\n      }\n    }\n  ]\n}"
            }
          },
          "metadata": {},
          "execution_count": 8
        }
      ]
    },
    {
      "cell_type": "markdown",
      "source": [
        "**Dropping NaN**"
      ],
      "metadata": {
        "id": "5mUxcaZt21Zr"
      }
    },
    {
      "cell_type": "code",
      "source": [
        "print(pd.isna(df1).sum().sum())\n",
        "# Drop rows with NaNs\n",
        "df1.dropna(inplace=True)"
      ],
      "metadata": {
        "colab": {
          "base_uri": "https://localhost:8080/"
        },
        "id": "smBJoU8pxQJ8",
        "outputId": "0c972b58-5b68-4875-9af7-fa6b072a6da4"
      },
      "execution_count": 9,
      "outputs": [
        {
          "output_type": "stream",
          "name": "stdout",
          "text": [
            "0\n"
          ]
        }
      ]
    },
    {
      "cell_type": "code",
      "source": [
        "scaler = MinMaxScaler()\n",
        "\n",
        "# Scaling the features except for the target variable (Adj Close)\n",
        "df1[['Open', 'High', 'Low', 'Close', 'Volume']] = scaler.fit_transform(\n",
        "    df1[['Open', 'High', 'Low', 'Close', 'Volume']])"
      ],
      "metadata": {
        "id": "pe5itfjiehwl"
      },
      "execution_count": 10,
      "outputs": []
    },
    {
      "cell_type": "markdown",
      "source": [
        "**Setting data for model prepration**"
      ],
      "metadata": {
        "id": "AfIT0zLLsoDg"
      }
    },
    {
      "cell_type": "code",
      "source": [
        "# Define features and target variable\n",
        "features = ['Open', 'High', 'Low', 'Close', 'Volume']\n",
        "X = df1[features]\n",
        "y = df1['Adj Close']"
      ],
      "metadata": {
        "id": "H5I2IeMUscUL"
      },
      "execution_count": 11,
      "outputs": []
    },
    {
      "cell_type": "markdown",
      "source": [
        "**Data Sampling for test-train**"
      ],
      "metadata": {
        "id": "cqq2UK0Jsxyw"
      }
    },
    {
      "cell_type": "code",
      "source": [
        "X_train, X_test, y_train, y_test = train_test_split(X, y, test_size=0.2, shuffle=False)"
      ],
      "metadata": {
        "id": "XRHJR0p1shU1"
      },
      "execution_count": 12,
      "outputs": []
    },
    {
      "cell_type": "code",
      "source": [
        "# K-NN model\n",
        "knn_model = KNeighborsRegressor()\n",
        "\n",
        "# Hyperparameter tuning using GridSearchCV\n",
        "HyperParams = {'n_neighbors': range(1, 20)}\n",
        "grid_search_cv = GridSearchCV(knn_model, HyperParams, cv=5, scoring='neg_mean_squared_error')\n",
        "grid_search_cv.fit(X_train, y_train)\n",
        "\n",
        "# K-NN model best_estimator\n",
        "best_knn_est = grid_search_cv.best_estimator_\n",
        "\n",
        "# Model Train on training data set\n",
        "best_knn_est.fit(X_train, y_train)\n",
        "\n",
        "# Performing prediction on test data set\n",
        "y_pred = best_knn_est.predict(X_test)\n",
        "\n",
        "# Model Evaluation\n",
        "K_mse = mean_squared_error(y_test, y_pred)\n",
        "rmse = K_mse ** 0.5\n",
        "mae = mean_absolute_error(y_test, y_pred)\n",
        "r2 = r2_score(y_test, y_pred)\n",
        "\n",
        "print(f\"Best K-NN model: {best_knn_est}\")\n",
        "print(f\"RMSE on test set: {rmse}\")\n",
        "print(f\"MAE on test set: {mae}\")\n",
        "print(f\"R² on test set: {r2}\")\n",
        "\n",
        "# Predicting the Adj Close price for the next day\n",
        "next_day_features_KNN = X.iloc[-1].values.reshape(1, -1)\n",
        "print('next_day_features_KNN',next_day_features_KNN)\n",
        "next_day_prediction_KNN = best_knn_est.predict(next_day_features_KNN)\n",
        "print(f\"Predicted Adj Close price for the next day: {next_day_prediction_KNN[0]}\")"
      ],
      "metadata": {
        "colab": {
          "base_uri": "https://localhost:8080/"
        },
        "id": "k-TSkxW_yNU2",
        "outputId": "fdc1bf51-3ff8-4cc0-f4c5-2aaf24244e12"
      },
      "execution_count": 13,
      "outputs": [
        {
          "output_type": "stream",
          "name": "stdout",
          "text": [
            "Best K-NN model: KNeighborsRegressor(n_neighbors=1)\n",
            "RMSE on test set: 6.587332101353741\n",
            "MAE on test set: 4.235247946428572\n",
            "R² on test set: 0.8797960967968486\n",
            "next_day_features_KNN [[0.96252313 0.96015774 0.95943192 0.96663976 0.06950556]]\n",
            "Predicted Adj Close price for the next day: 177.203201\n"
          ]
        },
        {
          "output_type": "stream",
          "name": "stderr",
          "text": [
            "/usr/local/lib/python3.10/dist-packages/sklearn/base.py:465: UserWarning: X does not have valid feature names, but KNeighborsRegressor was fitted with feature names\n",
            "  warnings.warn(\n"
          ]
        }
      ]
    },
    {
      "cell_type": "code",
      "source": [
        "# Step 4: XGBoost Model\n",
        "xgb_model = XGBRegressor(objective='reg:squarederror')\n",
        "xgb_model.fit(X_train, y_train)\n",
        "\n",
        "# Predict on the test set\n",
        "y_pred = xgb_model.predict(X_test)\n",
        "\n",
        "# Model Evaluation\n",
        "XGB_mse = mean_squared_error(y_test, y_pred)\n",
        "rmse = XGB_mse ** 0.5\n",
        "mae = mean_absolute_error(y_test, y_pred)\n",
        "r2 = r2_score(y_test, y_pred)\n",
        "\n",
        "print(f\"RMSE on test set: {rmse}\")\n",
        "print(f\"MAE on test set: {mae}\")\n",
        "print(f\"R² on test set: {r2}\")\n",
        "\n",
        "# Predicting the Adj Close price for the next day\n",
        "next_day_features_XGB = pd.DataFrame([X.iloc[-1]], columns=features)\n",
        "next_day_features_scaled = scaler.transform(next_day_features_XGB)\n",
        "next_day_prediction_XGB = xgb_model.predict(next_day_features_scaled)\n",
        "print(f\"Predicted Adj Close price for the next day: {next_day_prediction_XGB[0]}\")"
      ],
      "metadata": {
        "colab": {
          "base_uri": "https://localhost:8080/"
        },
        "id": "VqjzXQNXSpPs",
        "outputId": "4387192c-8d14-4f8e-8f57-c35fed434f4c"
      },
      "execution_count": 14,
      "outputs": [
        {
          "output_type": "stream",
          "name": "stdout",
          "text": [
            "RMSE on test set: 6.4573561515605835\n",
            "MAE on test set: 4.088681245626783\n",
            "R² on test set: 0.8844928328713111\n",
            "Predicted Adj Close price for the next day: 20.14866065979004\n"
          ]
        }
      ]
    },
    {
      "cell_type": "markdown",
      "source": [
        "**Implementing LSTM models**"
      ],
      "metadata": {
        "id": "bIo-FvlJvByR"
      }
    },
    {
      "cell_type": "code",
      "source": [
        "# Reshape input data for LSTM [samples, time steps, features]\n",
        "X_train_lstm = np.reshape(X_train.values, (X_train.shape[0], 1, X_train.shape[1]))\n",
        "X_test_lstm = np.reshape(X_test.values, (X_test.shape[0], 1, X_test.shape[1]))\n",
        "\n",
        "# Build LSTM model\n",
        "lstm_model = Sequential()\n",
        "lstm_model.add(LSTM(units=50, return_sequences=True, input_shape=(X_train_lstm.shape[1], X_train_lstm.shape[2])))\n",
        "lstm_model.add(Dropout(0.2))\n",
        "lstm_model.add(LSTM(units=50, return_sequences=False))\n",
        "lstm_model.add(Dropout(0.2))\n",
        "lstm_model.add(Dense(units=1))\n",
        "\n",
        "# Compile the model\n",
        "lstm_model.compile(optimizer='adam', loss='mean_squared_error')\n",
        "\n",
        "# Train the model\n",
        "lstm_model.fit(X_train_lstm, y_train, epochs=100, batch_size=32)"
      ],
      "metadata": {
        "colab": {
          "base_uri": "https://localhost:8080/"
        },
        "id": "dR6jJ-sMu_5w",
        "outputId": "5aec6fdd-e1ea-4104-9509-4a5cc62059db"
      },
      "execution_count": 15,
      "outputs": [
        {
          "output_type": "stream",
          "name": "stderr",
          "text": [
            "/usr/local/lib/python3.10/dist-packages/keras/src/layers/rnn/rnn.py:204: UserWarning: Do not pass an `input_shape`/`input_dim` argument to a layer. When using Sequential models, prefer using an `Input(shape)` object as the first layer in the model instead.\n",
            "  super().__init__(**kwargs)\n"
          ]
        },
        {
          "output_type": "stream",
          "name": "stdout",
          "text": [
            "Epoch 1/100\n",
            "\u001b[1m63/63\u001b[0m \u001b[32m━━━━━━━━━━━━━━━━━━━━\u001b[0m\u001b[37m\u001b[0m \u001b[1m5s\u001b[0m 3ms/step - loss: 5776.4141\n",
            "Epoch 2/100\n",
            "\u001b[1m63/63\u001b[0m \u001b[32m━━━━━━━━━━━━━━━━━━━━\u001b[0m\u001b[37m\u001b[0m \u001b[1m0s\u001b[0m 4ms/step - loss: 5734.0005\n",
            "Epoch 3/100\n",
            "\u001b[1m63/63\u001b[0m \u001b[32m━━━━━━━━━━━━━━━━━━━━\u001b[0m\u001b[37m\u001b[0m \u001b[1m0s\u001b[0m 4ms/step - loss: 4729.7549\n",
            "Epoch 4/100\n",
            "\u001b[1m63/63\u001b[0m \u001b[32m━━━━━━━━━━━━━━━━━━━━\u001b[0m\u001b[37m\u001b[0m \u001b[1m0s\u001b[0m 3ms/step - loss: 4024.2419\n",
            "Epoch 5/100\n",
            "\u001b[1m63/63\u001b[0m \u001b[32m━━━━━━━━━━━━━━━━━━━━\u001b[0m\u001b[37m\u001b[0m \u001b[1m0s\u001b[0m 4ms/step - loss: 4012.8555\n",
            "Epoch 6/100\n",
            "\u001b[1m63/63\u001b[0m \u001b[32m━━━━━━━━━━━━━━━━━━━━\u001b[0m\u001b[37m\u001b[0m \u001b[1m0s\u001b[0m 6ms/step - loss: 3433.6357\n",
            "Epoch 7/100\n",
            "\u001b[1m63/63\u001b[0m \u001b[32m━━━━━━━━━━━━━━━━━━━━\u001b[0m\u001b[37m\u001b[0m \u001b[1m1s\u001b[0m 5ms/step - loss: 3582.6443\n",
            "Epoch 8/100\n",
            "\u001b[1m63/63\u001b[0m \u001b[32m━━━━━━━━━━━━━━━━━━━━\u001b[0m\u001b[37m\u001b[0m \u001b[1m1s\u001b[0m 7ms/step - loss: 3074.1960\n",
            "Epoch 9/100\n",
            "\u001b[1m63/63\u001b[0m \u001b[32m━━━━━━━━━━━━━━━━━━━━\u001b[0m\u001b[37m\u001b[0m \u001b[1m1s\u001b[0m 6ms/step - loss: 2951.8123\n",
            "Epoch 10/100\n",
            "\u001b[1m63/63\u001b[0m \u001b[32m━━━━━━━━━━━━━━━━━━━━\u001b[0m\u001b[37m\u001b[0m \u001b[1m1s\u001b[0m 6ms/step - loss: 2956.2251\n",
            "Epoch 11/100\n",
            "\u001b[1m63/63\u001b[0m \u001b[32m━━━━━━━━━━━━━━━━━━━━\u001b[0m\u001b[37m\u001b[0m \u001b[1m0s\u001b[0m 6ms/step - loss: 2941.6340\n",
            "Epoch 12/100\n",
            "\u001b[1m63/63\u001b[0m \u001b[32m━━━━━━━━━━━━━━━━━━━━\u001b[0m\u001b[37m\u001b[0m \u001b[1m1s\u001b[0m 8ms/step - loss: 2677.5981\n",
            "Epoch 13/100\n",
            "\u001b[1m63/63\u001b[0m \u001b[32m━━━━━━━━━━━━━━━━━━━━\u001b[0m\u001b[37m\u001b[0m \u001b[1m1s\u001b[0m 8ms/step - loss: 2648.0378\n",
            "Epoch 14/100\n",
            "\u001b[1m63/63\u001b[0m \u001b[32m━━━━━━━━━━━━━━━━━━━━\u001b[0m\u001b[37m\u001b[0m \u001b[1m0s\u001b[0m 7ms/step - loss: 2593.2344\n",
            "Epoch 15/100\n",
            "\u001b[1m63/63\u001b[0m \u001b[32m━━━━━━━━━━━━━━━━━━━━\u001b[0m\u001b[37m\u001b[0m \u001b[1m1s\u001b[0m 7ms/step - loss: 2476.7893\n",
            "Epoch 16/100\n",
            "\u001b[1m63/63\u001b[0m \u001b[32m━━━━━━━━━━━━━━━━━━━━\u001b[0m\u001b[37m\u001b[0m \u001b[1m0s\u001b[0m 7ms/step - loss: 2291.3669\n",
            "Epoch 17/100\n",
            "\u001b[1m63/63\u001b[0m \u001b[32m━━━━━━━━━━━━━━━━━━━━\u001b[0m\u001b[37m\u001b[0m \u001b[1m0s\u001b[0m 7ms/step - loss: 2120.3037\n",
            "Epoch 18/100\n",
            "\u001b[1m63/63\u001b[0m \u001b[32m━━━━━━━━━━━━━━━━━━━━\u001b[0m\u001b[37m\u001b[0m \u001b[1m1s\u001b[0m 8ms/step - loss: 2122.4160\n",
            "Epoch 19/100\n",
            "\u001b[1m63/63\u001b[0m \u001b[32m━━━━━━━━━━━━━━━━━━━━\u001b[0m\u001b[37m\u001b[0m \u001b[1m1s\u001b[0m 7ms/step - loss: 2032.7220\n",
            "Epoch 20/100\n",
            "\u001b[1m63/63\u001b[0m \u001b[32m━━━━━━━━━━━━━━━━━━━━\u001b[0m\u001b[37m\u001b[0m \u001b[1m1s\u001b[0m 9ms/step - loss: 1904.5253\n",
            "Epoch 21/100\n",
            "\u001b[1m63/63\u001b[0m \u001b[32m━━━━━━━━━━━━━━━━━━━━\u001b[0m\u001b[37m\u001b[0m \u001b[1m1s\u001b[0m 8ms/step - loss: 1814.8770\n",
            "Epoch 22/100\n",
            "\u001b[1m63/63\u001b[0m \u001b[32m━━━━━━━━━━━━━━━━━━━━\u001b[0m\u001b[37m\u001b[0m \u001b[1m1s\u001b[0m 7ms/step - loss: 1700.7577\n",
            "Epoch 23/100\n",
            "\u001b[1m63/63\u001b[0m \u001b[32m━━━━━━━━━━━━━━━━━━━━\u001b[0m\u001b[37m\u001b[0m \u001b[1m1s\u001b[0m 7ms/step - loss: 1597.8536\n",
            "Epoch 24/100\n",
            "\u001b[1m63/63\u001b[0m \u001b[32m━━━━━━━━━━━━━━━━━━━━\u001b[0m\u001b[37m\u001b[0m \u001b[1m0s\u001b[0m 6ms/step - loss: 1584.2886\n",
            "Epoch 25/100\n",
            "\u001b[1m63/63\u001b[0m \u001b[32m━━━━━━━━━━━━━━━━━━━━\u001b[0m\u001b[37m\u001b[0m \u001b[1m0s\u001b[0m 4ms/step - loss: 1548.9591\n",
            "Epoch 26/100\n",
            "\u001b[1m63/63\u001b[0m \u001b[32m━━━━━━━━━━━━━━━━━━━━\u001b[0m\u001b[37m\u001b[0m \u001b[1m0s\u001b[0m 4ms/step - loss: 1442.5549\n",
            "Epoch 27/100\n",
            "\u001b[1m63/63\u001b[0m \u001b[32m━━━━━━━━━━━━━━━━━━━━\u001b[0m\u001b[37m\u001b[0m \u001b[1m0s\u001b[0m 4ms/step - loss: 1489.3085\n",
            "Epoch 28/100\n",
            "\u001b[1m63/63\u001b[0m \u001b[32m━━━━━━━━━━━━━━━━━━━━\u001b[0m\u001b[37m\u001b[0m \u001b[1m0s\u001b[0m 4ms/step - loss: 1386.9969\n",
            "Epoch 29/100\n",
            "\u001b[1m63/63\u001b[0m \u001b[32m━━━━━━━━━━━━━━━━━━━━\u001b[0m\u001b[37m\u001b[0m \u001b[1m0s\u001b[0m 4ms/step - loss: 1251.4532\n",
            "Epoch 30/100\n",
            "\u001b[1m63/63\u001b[0m \u001b[32m━━━━━━━━━━━━━━━━━━━━\u001b[0m\u001b[37m\u001b[0m \u001b[1m0s\u001b[0m 4ms/step - loss: 1227.7345\n",
            "Epoch 31/100\n",
            "\u001b[1m63/63\u001b[0m \u001b[32m━━━━━━━━━━━━━━━━━━━━\u001b[0m\u001b[37m\u001b[0m \u001b[1m0s\u001b[0m 4ms/step - loss: 1210.7062\n",
            "Epoch 32/100\n",
            "\u001b[1m63/63\u001b[0m \u001b[32m━━━━━━━━━━━━━━━━━━━━\u001b[0m\u001b[37m\u001b[0m \u001b[1m0s\u001b[0m 4ms/step - loss: 1168.5720\n",
            "Epoch 33/100\n",
            "\u001b[1m63/63\u001b[0m \u001b[32m━━━━━━━━━━━━━━━━━━━━\u001b[0m\u001b[37m\u001b[0m \u001b[1m0s\u001b[0m 3ms/step - loss: 1100.6378\n",
            "Epoch 34/100\n",
            "\u001b[1m63/63\u001b[0m \u001b[32m━━━━━━━━━━━━━━━━━━━━\u001b[0m\u001b[37m\u001b[0m \u001b[1m0s\u001b[0m 4ms/step - loss: 1045.5769\n",
            "Epoch 35/100\n",
            "\u001b[1m63/63\u001b[0m \u001b[32m━━━━━━━━━━━━━━━━━━━━\u001b[0m\u001b[37m\u001b[0m \u001b[1m0s\u001b[0m 4ms/step - loss: 1047.3855\n",
            "Epoch 36/100\n",
            "\u001b[1m63/63\u001b[0m \u001b[32m━━━━━━━━━━━━━━━━━━━━\u001b[0m\u001b[37m\u001b[0m \u001b[1m0s\u001b[0m 3ms/step - loss: 885.9252\n",
            "Epoch 37/100\n",
            "\u001b[1m63/63\u001b[0m \u001b[32m━━━━━━━━━━━━━━━━━━━━\u001b[0m\u001b[37m\u001b[0m \u001b[1m0s\u001b[0m 3ms/step - loss: 890.4321\n",
            "Epoch 38/100\n",
            "\u001b[1m63/63\u001b[0m \u001b[32m━━━━━━━━━━━━━━━━━━━━\u001b[0m\u001b[37m\u001b[0m \u001b[1m0s\u001b[0m 3ms/step - loss: 817.0327\n",
            "Epoch 39/100\n",
            "\u001b[1m63/63\u001b[0m \u001b[32m━━━━━━━━━━━━━━━━━━━━\u001b[0m\u001b[37m\u001b[0m \u001b[1m0s\u001b[0m 3ms/step - loss: 726.0473\n",
            "Epoch 40/100\n",
            "\u001b[1m63/63\u001b[0m \u001b[32m━━━━━━━━━━━━━━━━━━━━\u001b[0m\u001b[37m\u001b[0m \u001b[1m0s\u001b[0m 3ms/step - loss: 739.8904\n",
            "Epoch 41/100\n",
            "\u001b[1m63/63\u001b[0m \u001b[32m━━━━━━━━━━━━━━━━━━━━\u001b[0m\u001b[37m\u001b[0m \u001b[1m0s\u001b[0m 4ms/step - loss: 741.7049\n",
            "Epoch 42/100\n",
            "\u001b[1m63/63\u001b[0m \u001b[32m━━━━━━━━━━━━━━━━━━━━\u001b[0m\u001b[37m\u001b[0m \u001b[1m0s\u001b[0m 4ms/step - loss: 673.2841\n",
            "Epoch 43/100\n",
            "\u001b[1m63/63\u001b[0m \u001b[32m━━━━━━━━━━━━━━━━━━━━\u001b[0m\u001b[37m\u001b[0m \u001b[1m0s\u001b[0m 4ms/step - loss: 674.9849\n",
            "Epoch 44/100\n",
            "\u001b[1m63/63\u001b[0m \u001b[32m━━━━━━━━━━━━━━━━━━━━\u001b[0m\u001b[37m\u001b[0m \u001b[1m1s\u001b[0m 4ms/step - loss: 613.3272\n",
            "Epoch 45/100\n",
            "\u001b[1m63/63\u001b[0m \u001b[32m━━━━━━━━━━━━━━━━━━━━\u001b[0m\u001b[37m\u001b[0m \u001b[1m0s\u001b[0m 4ms/step - loss: 626.4578\n",
            "Epoch 46/100\n",
            "\u001b[1m63/63\u001b[0m \u001b[32m━━━━━━━━━━━━━━━━━━━━\u001b[0m\u001b[37m\u001b[0m \u001b[1m0s\u001b[0m 4ms/step - loss: 576.9598\n",
            "Epoch 47/100\n",
            "\u001b[1m63/63\u001b[0m \u001b[32m━━━━━━━━━━━━━━━━━━━━\u001b[0m\u001b[37m\u001b[0m \u001b[1m0s\u001b[0m 4ms/step - loss: 544.3175\n",
            "Epoch 48/100\n",
            "\u001b[1m63/63\u001b[0m \u001b[32m━━━━━━━━━━━━━━━━━━━━\u001b[0m\u001b[37m\u001b[0m \u001b[1m0s\u001b[0m 5ms/step - loss: 521.4844\n",
            "Epoch 49/100\n",
            "\u001b[1m63/63\u001b[0m \u001b[32m━━━━━━━━━━━━━━━━━━━━\u001b[0m\u001b[37m\u001b[0m \u001b[1m1s\u001b[0m 3ms/step - loss: 555.8265\n",
            "Epoch 50/100\n",
            "\u001b[1m63/63\u001b[0m \u001b[32m━━━━━━━━━━━━━━━━━━━━\u001b[0m\u001b[37m\u001b[0m \u001b[1m0s\u001b[0m 3ms/step - loss: 467.8590\n",
            "Epoch 51/100\n",
            "\u001b[1m63/63\u001b[0m \u001b[32m━━━━━━━━━━━━━━━━━━━━\u001b[0m\u001b[37m\u001b[0m \u001b[1m0s\u001b[0m 4ms/step - loss: 422.0075\n",
            "Epoch 52/100\n",
            "\u001b[1m63/63\u001b[0m \u001b[32m━━━━━━━━━━━━━━━━━━━━\u001b[0m\u001b[37m\u001b[0m \u001b[1m1s\u001b[0m 5ms/step - loss: 410.7801\n",
            "Epoch 53/100\n",
            "\u001b[1m63/63\u001b[0m \u001b[32m━━━━━━━━━━━━━━━━━━━━\u001b[0m\u001b[37m\u001b[0m \u001b[1m1s\u001b[0m 6ms/step - loss: 416.2729\n",
            "Epoch 54/100\n",
            "\u001b[1m63/63\u001b[0m \u001b[32m━━━━━━━━━━━━━━━━━━━━\u001b[0m\u001b[37m\u001b[0m \u001b[1m1s\u001b[0m 6ms/step - loss: 400.6945\n",
            "Epoch 55/100\n",
            "\u001b[1m63/63\u001b[0m \u001b[32m━━━━━━━━━━━━━━━━━━━━\u001b[0m\u001b[37m\u001b[0m \u001b[1m1s\u001b[0m 7ms/step - loss: 372.1993\n",
            "Epoch 56/100\n",
            "\u001b[1m63/63\u001b[0m \u001b[32m━━━━━━━━━━━━━━━━━━━━\u001b[0m\u001b[37m\u001b[0m \u001b[1m1s\u001b[0m 8ms/step - loss: 386.9323\n",
            "Epoch 57/100\n",
            "\u001b[1m63/63\u001b[0m \u001b[32m━━━━━━━━━━━━━━━━━━━━\u001b[0m\u001b[37m\u001b[0m \u001b[1m0s\u001b[0m 7ms/step - loss: 352.6508\n",
            "Epoch 58/100\n",
            "\u001b[1m63/63\u001b[0m \u001b[32m━━━━━━━━━━━━━━━━━━━━\u001b[0m\u001b[37m\u001b[0m \u001b[1m1s\u001b[0m 7ms/step - loss: 334.8352\n",
            "Epoch 59/100\n",
            "\u001b[1m63/63\u001b[0m \u001b[32m━━━━━━━━━━━━━━━━━━━━\u001b[0m\u001b[37m\u001b[0m \u001b[1m0s\u001b[0m 7ms/step - loss: 344.8125\n",
            "Epoch 60/100\n",
            "\u001b[1m63/63\u001b[0m \u001b[32m━━━━━━━━━━━━━━━━━━━━\u001b[0m\u001b[37m\u001b[0m \u001b[1m1s\u001b[0m 7ms/step - loss: 329.7299\n",
            "Epoch 61/100\n",
            "\u001b[1m63/63\u001b[0m \u001b[32m━━━━━━━━━━━━━━━━━━━━\u001b[0m\u001b[37m\u001b[0m \u001b[1m1s\u001b[0m 7ms/step - loss: 296.4263\n",
            "Epoch 62/100\n",
            "\u001b[1m63/63\u001b[0m \u001b[32m━━━━━━━━━━━━━━━━━━━━\u001b[0m\u001b[37m\u001b[0m \u001b[1m1s\u001b[0m 6ms/step - loss: 257.5928\n",
            "Epoch 63/100\n",
            "\u001b[1m63/63\u001b[0m \u001b[32m━━━━━━━━━━━━━━━━━━━━\u001b[0m\u001b[37m\u001b[0m \u001b[1m1s\u001b[0m 7ms/step - loss: 216.9801\n",
            "Epoch 64/100\n",
            "\u001b[1m63/63\u001b[0m \u001b[32m━━━━━━━━━━━━━━━━━━━━\u001b[0m\u001b[37m\u001b[0m \u001b[1m1s\u001b[0m 9ms/step - loss: 235.5174\n",
            "Epoch 65/100\n",
            "\u001b[1m63/63\u001b[0m \u001b[32m━━━━━━━━━━━━━━━━━━━━\u001b[0m\u001b[37m\u001b[0m \u001b[1m0s\u001b[0m 4ms/step - loss: 222.2006\n",
            "Epoch 66/100\n",
            "\u001b[1m63/63\u001b[0m \u001b[32m━━━━━━━━━━━━━━━━━━━━\u001b[0m\u001b[37m\u001b[0m \u001b[1m0s\u001b[0m 4ms/step - loss: 224.3146\n",
            "Epoch 67/100\n",
            "\u001b[1m63/63\u001b[0m \u001b[32m━━━━━━━━━━━━━━━━━━━━\u001b[0m\u001b[37m\u001b[0m \u001b[1m0s\u001b[0m 5ms/step - loss: 218.8312\n",
            "Epoch 68/100\n",
            "\u001b[1m63/63\u001b[0m \u001b[32m━━━━━━━━━━━━━━━━━━━━\u001b[0m\u001b[37m\u001b[0m \u001b[1m1s\u001b[0m 4ms/step - loss: 216.4051\n",
            "Epoch 69/100\n",
            "\u001b[1m63/63\u001b[0m \u001b[32m━━━━━━━━━━━━━━━━━━━━\u001b[0m\u001b[37m\u001b[0m \u001b[1m0s\u001b[0m 4ms/step - loss: 203.3461\n",
            "Epoch 70/100\n",
            "\u001b[1m63/63\u001b[0m \u001b[32m━━━━━━━━━━━━━━━━━━━━\u001b[0m\u001b[37m\u001b[0m \u001b[1m0s\u001b[0m 4ms/step - loss: 190.3219\n",
            "Epoch 71/100\n",
            "\u001b[1m63/63\u001b[0m \u001b[32m━━━━━━━━━━━━━━━━━━━━\u001b[0m\u001b[37m\u001b[0m \u001b[1m0s\u001b[0m 3ms/step - loss: 181.7296\n",
            "Epoch 72/100\n",
            "\u001b[1m63/63\u001b[0m \u001b[32m━━━━━━━━━━━━━━━━━━━━\u001b[0m\u001b[37m\u001b[0m \u001b[1m0s\u001b[0m 4ms/step - loss: 181.2244\n",
            "Epoch 73/100\n",
            "\u001b[1m63/63\u001b[0m \u001b[32m━━━━━━━━━━━━━━━━━━━━\u001b[0m\u001b[37m\u001b[0m \u001b[1m0s\u001b[0m 4ms/step - loss: 158.2097\n",
            "Epoch 74/100\n",
            "\u001b[1m63/63\u001b[0m \u001b[32m━━━━━━━━━━━━━━━━━━━━\u001b[0m\u001b[37m\u001b[0m \u001b[1m0s\u001b[0m 4ms/step - loss: 146.7238\n",
            "Epoch 75/100\n",
            "\u001b[1m63/63\u001b[0m \u001b[32m━━━━━━━━━━━━━━━━━━━━\u001b[0m\u001b[37m\u001b[0m \u001b[1m0s\u001b[0m 4ms/step - loss: 161.1737\n",
            "Epoch 76/100\n",
            "\u001b[1m63/63\u001b[0m \u001b[32m━━━━━━━━━━━━━━━━━━━━\u001b[0m\u001b[37m\u001b[0m \u001b[1m0s\u001b[0m 4ms/step - loss: 146.9028\n",
            "Epoch 77/100\n",
            "\u001b[1m63/63\u001b[0m \u001b[32m━━━━━━━━━━━━━━━━━━━━\u001b[0m\u001b[37m\u001b[0m \u001b[1m0s\u001b[0m 4ms/step - loss: 149.0954\n",
            "Epoch 78/100\n",
            "\u001b[1m63/63\u001b[0m \u001b[32m━━━━━━━━━━━━━━━━━━━━\u001b[0m\u001b[37m\u001b[0m \u001b[1m0s\u001b[0m 4ms/step - loss: 133.9912\n",
            "Epoch 79/100\n",
            "\u001b[1m63/63\u001b[0m \u001b[32m━━━━━━━━━━━━━━━━━━━━\u001b[0m\u001b[37m\u001b[0m \u001b[1m0s\u001b[0m 4ms/step - loss: 119.7839\n",
            "Epoch 80/100\n",
            "\u001b[1m63/63\u001b[0m \u001b[32m━━━━━━━━━━━━━━━━━━━━\u001b[0m\u001b[37m\u001b[0m \u001b[1m0s\u001b[0m 4ms/step - loss: 128.0181\n",
            "Epoch 81/100\n",
            "\u001b[1m63/63\u001b[0m \u001b[32m━━━━━━━━━━━━━━━━━━━━\u001b[0m\u001b[37m\u001b[0m \u001b[1m0s\u001b[0m 4ms/step - loss: 140.1616\n",
            "Epoch 82/100\n",
            "\u001b[1m63/63\u001b[0m \u001b[32m━━━━━━━━━━━━━━━━━━━━\u001b[0m\u001b[37m\u001b[0m \u001b[1m0s\u001b[0m 4ms/step - loss: 132.2147\n",
            "Epoch 83/100\n",
            "\u001b[1m63/63\u001b[0m \u001b[32m━━━━━━━━━━━━━━━━━━━━\u001b[0m\u001b[37m\u001b[0m \u001b[1m0s\u001b[0m 5ms/step - loss: 106.8469\n",
            "Epoch 84/100\n",
            "\u001b[1m63/63\u001b[0m \u001b[32m━━━━━━━━━━━━━━━━━━━━\u001b[0m\u001b[37m\u001b[0m \u001b[1m0s\u001b[0m 5ms/step - loss: 105.6100\n",
            "Epoch 85/100\n",
            "\u001b[1m63/63\u001b[0m \u001b[32m━━━━━━━━━━━━━━━━━━━━\u001b[0m\u001b[37m\u001b[0m \u001b[1m1s\u001b[0m 5ms/step - loss: 95.1773\n",
            "Epoch 86/100\n",
            "\u001b[1m63/63\u001b[0m \u001b[32m━━━━━━━━━━━━━━━━━━━━\u001b[0m\u001b[37m\u001b[0m \u001b[1m0s\u001b[0m 4ms/step - loss: 103.5863\n",
            "Epoch 87/100\n",
            "\u001b[1m63/63\u001b[0m \u001b[32m━━━━━━━━━━━━━━━━━━━━\u001b[0m\u001b[37m\u001b[0m \u001b[1m1s\u001b[0m 4ms/step - loss: 79.8095\n",
            "Epoch 88/100\n",
            "\u001b[1m63/63\u001b[0m \u001b[32m━━━━━━━━━━━━━━━━━━━━\u001b[0m\u001b[37m\u001b[0m \u001b[1m0s\u001b[0m 4ms/step - loss: 109.7893\n",
            "Epoch 89/100\n",
            "\u001b[1m63/63\u001b[0m \u001b[32m━━━━━━━━━━━━━━━━━━━━\u001b[0m\u001b[37m\u001b[0m \u001b[1m0s\u001b[0m 7ms/step - loss: 99.2268 \n",
            "Epoch 90/100\n",
            "\u001b[1m63/63\u001b[0m \u001b[32m━━━━━━━━━━━━━━━━━━━━\u001b[0m\u001b[37m\u001b[0m \u001b[1m1s\u001b[0m 6ms/step - loss: 90.0127\n",
            "Epoch 91/100\n",
            "\u001b[1m63/63\u001b[0m \u001b[32m━━━━━━━━━━━━━━━━━━━━\u001b[0m\u001b[37m\u001b[0m \u001b[1m1s\u001b[0m 6ms/step - loss: 87.8746\n",
            "Epoch 92/100\n",
            "\u001b[1m63/63\u001b[0m \u001b[32m━━━━━━━━━━━━━━━━━━━━\u001b[0m\u001b[37m\u001b[0m \u001b[1m1s\u001b[0m 7ms/step - loss: 81.1380\n",
            "Epoch 93/100\n",
            "\u001b[1m63/63\u001b[0m \u001b[32m━━━━━━━━━━━━━━━━━━━━\u001b[0m\u001b[37m\u001b[0m \u001b[1m1s\u001b[0m 8ms/step - loss: 85.4159\n",
            "Epoch 94/100\n",
            "\u001b[1m63/63\u001b[0m \u001b[32m━━━━━━━━━━━━━━━━━━━━\u001b[0m\u001b[37m\u001b[0m \u001b[1m1s\u001b[0m 8ms/step - loss: 77.0848\n",
            "Epoch 95/100\n",
            "\u001b[1m63/63\u001b[0m \u001b[32m━━━━━━━━━━━━━━━━━━━━\u001b[0m\u001b[37m\u001b[0m \u001b[1m1s\u001b[0m 8ms/step - loss: 76.5447\n",
            "Epoch 96/100\n",
            "\u001b[1m63/63\u001b[0m \u001b[32m━━━━━━━━━━━━━━━━━━━━\u001b[0m\u001b[37m\u001b[0m \u001b[1m0s\u001b[0m 7ms/step - loss: 70.9159\n",
            "Epoch 97/100\n",
            "\u001b[1m63/63\u001b[0m \u001b[32m━━━━━━━━━━━━━━━━━━━━\u001b[0m\u001b[37m\u001b[0m \u001b[1m0s\u001b[0m 4ms/step - loss: 64.5418\n",
            "Epoch 98/100\n",
            "\u001b[1m63/63\u001b[0m \u001b[32m━━━━━━━━━━━━━━━━━━━━\u001b[0m\u001b[37m\u001b[0m \u001b[1m0s\u001b[0m 4ms/step - loss: 63.5911\n",
            "Epoch 99/100\n",
            "\u001b[1m63/63\u001b[0m \u001b[32m━━━━━━━━━━━━━━━━━━━━\u001b[0m\u001b[37m\u001b[0m \u001b[1m0s\u001b[0m 4ms/step - loss: 77.3400\n",
            "Epoch 100/100\n",
            "\u001b[1m63/63\u001b[0m \u001b[32m━━━━━━━━━━━━━━━━━━━━\u001b[0m\u001b[37m\u001b[0m \u001b[1m0s\u001b[0m 4ms/step - loss: 66.6324\n"
          ]
        },
        {
          "output_type": "execute_result",
          "data": {
            "text/plain": [
              "<keras.src.callbacks.history.History at 0x784cb005c100>"
            ]
          },
          "metadata": {},
          "execution_count": 15
        }
      ]
    },
    {
      "cell_type": "markdown",
      "source": [
        "**Implementing Random forest model**"
      ],
      "metadata": {
        "id": "Jw2EYqlGvcPR"
      }
    },
    {
      "cell_type": "code",
      "source": [
        "\n",
        "# Predict using LSTM model\n",
        "lstm_train_predictions = lstm_model.predict(X_train_lstm)\n",
        "lstm_test_predictions = lstm_model.predict(X_test_lstm)\n",
        "\n",
        "# Add LSTM predictions to the feature set\n",
        "X_train_rf = X_train.copy()\n",
        "X_test_rf = X_test.copy()\n",
        "X_train_rf['LSTM_Pred'] = lstm_train_predictions\n",
        "X_test_rf['LSTM_Pred'] = lstm_test_predictions\n",
        "\n",
        "# Train Random Forest model\n",
        "rf_model = RandomForestRegressor(n_estimators=100, random_state=42)\n",
        "rf_model.fit(X_train_rf, y_train)"
      ],
      "metadata": {
        "colab": {
          "base_uri": "https://localhost:8080/",
          "height": 109
        },
        "id": "hS5zp43JvbNG",
        "outputId": "a690f239-dc19-453d-bda2-381d8e032041"
      },
      "execution_count": 16,
      "outputs": [
        {
          "output_type": "stream",
          "name": "stdout",
          "text": [
            "\u001b[1m63/63\u001b[0m \u001b[32m━━━━━━━━━━━━━━━━━━━━\u001b[0m\u001b[37m\u001b[0m \u001b[1m1s\u001b[0m 8ms/step\n",
            "\u001b[1m16/16\u001b[0m \u001b[32m━━━━━━━━━━━━━━━━━━━━\u001b[0m\u001b[37m\u001b[0m \u001b[1m0s\u001b[0m 2ms/step \n"
          ]
        },
        {
          "output_type": "execute_result",
          "data": {
            "text/plain": [
              "RandomForestRegressor(random_state=42)"
            ],
            "text/html": [
              "<style>#sk-container-id-1 {color: black;}#sk-container-id-1 pre{padding: 0;}#sk-container-id-1 div.sk-toggleable {background-color: white;}#sk-container-id-1 label.sk-toggleable__label {cursor: pointer;display: block;width: 100%;margin-bottom: 0;padding: 0.3em;box-sizing: border-box;text-align: center;}#sk-container-id-1 label.sk-toggleable__label-arrow:before {content: \"▸\";float: left;margin-right: 0.25em;color: #696969;}#sk-container-id-1 label.sk-toggleable__label-arrow:hover:before {color: black;}#sk-container-id-1 div.sk-estimator:hover label.sk-toggleable__label-arrow:before {color: black;}#sk-container-id-1 div.sk-toggleable__content {max-height: 0;max-width: 0;overflow: hidden;text-align: left;background-color: #f0f8ff;}#sk-container-id-1 div.sk-toggleable__content pre {margin: 0.2em;color: black;border-radius: 0.25em;background-color: #f0f8ff;}#sk-container-id-1 input.sk-toggleable__control:checked~div.sk-toggleable__content {max-height: 200px;max-width: 100%;overflow: auto;}#sk-container-id-1 input.sk-toggleable__control:checked~label.sk-toggleable__label-arrow:before {content: \"▾\";}#sk-container-id-1 div.sk-estimator input.sk-toggleable__control:checked~label.sk-toggleable__label {background-color: #d4ebff;}#sk-container-id-1 div.sk-label input.sk-toggleable__control:checked~label.sk-toggleable__label {background-color: #d4ebff;}#sk-container-id-1 input.sk-hidden--visually {border: 0;clip: rect(1px 1px 1px 1px);clip: rect(1px, 1px, 1px, 1px);height: 1px;margin: -1px;overflow: hidden;padding: 0;position: absolute;width: 1px;}#sk-container-id-1 div.sk-estimator {font-family: monospace;background-color: #f0f8ff;border: 1px dotted black;border-radius: 0.25em;box-sizing: border-box;margin-bottom: 0.5em;}#sk-container-id-1 div.sk-estimator:hover {background-color: #d4ebff;}#sk-container-id-1 div.sk-parallel-item::after {content: \"\";width: 100%;border-bottom: 1px solid gray;flex-grow: 1;}#sk-container-id-1 div.sk-label:hover label.sk-toggleable__label {background-color: #d4ebff;}#sk-container-id-1 div.sk-serial::before {content: \"\";position: absolute;border-left: 1px solid gray;box-sizing: border-box;top: 0;bottom: 0;left: 50%;z-index: 0;}#sk-container-id-1 div.sk-serial {display: flex;flex-direction: column;align-items: center;background-color: white;padding-right: 0.2em;padding-left: 0.2em;position: relative;}#sk-container-id-1 div.sk-item {position: relative;z-index: 1;}#sk-container-id-1 div.sk-parallel {display: flex;align-items: stretch;justify-content: center;background-color: white;position: relative;}#sk-container-id-1 div.sk-item::before, #sk-container-id-1 div.sk-parallel-item::before {content: \"\";position: absolute;border-left: 1px solid gray;box-sizing: border-box;top: 0;bottom: 0;left: 50%;z-index: -1;}#sk-container-id-1 div.sk-parallel-item {display: flex;flex-direction: column;z-index: 1;position: relative;background-color: white;}#sk-container-id-1 div.sk-parallel-item:first-child::after {align-self: flex-end;width: 50%;}#sk-container-id-1 div.sk-parallel-item:last-child::after {align-self: flex-start;width: 50%;}#sk-container-id-1 div.sk-parallel-item:only-child::after {width: 0;}#sk-container-id-1 div.sk-dashed-wrapped {border: 1px dashed gray;margin: 0 0.4em 0.5em 0.4em;box-sizing: border-box;padding-bottom: 0.4em;background-color: white;}#sk-container-id-1 div.sk-label label {font-family: monospace;font-weight: bold;display: inline-block;line-height: 1.2em;}#sk-container-id-1 div.sk-label-container {text-align: center;}#sk-container-id-1 div.sk-container {/* jupyter's `normalize.less` sets `[hidden] { display: none; }` but bootstrap.min.css set `[hidden] { display: none !important; }` so we also need the `!important` here to be able to override the default hidden behavior on the sphinx rendered scikit-learn.org. See: https://github.com/scikit-learn/scikit-learn/issues/21755 */display: inline-block !important;position: relative;}#sk-container-id-1 div.sk-text-repr-fallback {display: none;}</style><div id=\"sk-container-id-1\" class=\"sk-top-container\"><div class=\"sk-text-repr-fallback\"><pre>RandomForestRegressor(random_state=42)</pre><b>In a Jupyter environment, please rerun this cell to show the HTML representation or trust the notebook. <br />On GitHub, the HTML representation is unable to render, please try loading this page with nbviewer.org.</b></div><div class=\"sk-container\" hidden><div class=\"sk-item\"><div class=\"sk-estimator sk-toggleable\"><input class=\"sk-toggleable__control sk-hidden--visually\" id=\"sk-estimator-id-1\" type=\"checkbox\" checked><label for=\"sk-estimator-id-1\" class=\"sk-toggleable__label sk-toggleable__label-arrow\">RandomForestRegressor</label><div class=\"sk-toggleable__content\"><pre>RandomForestRegressor(random_state=42)</pre></div></div></div></div></div>"
            ]
          },
          "metadata": {},
          "execution_count": 16
        }
      ]
    },
    {
      "cell_type": "markdown",
      "source": [
        "**Hybrid prediction LSTM-RF**"
      ],
      "metadata": {
        "id": "PVx7COplwAZ8"
      }
    },
    {
      "cell_type": "code",
      "source": [
        "# # Predict using Random Forest model\n",
        "# rf_train_predictions = rf_model.predict(X_train_rf)\n",
        "# rf_test_predictions = rf_model.predict(X_test_rf)\n",
        "\n",
        "# # Combine predictions (simple average in this case)\n",
        "# train_predictions = (lstm_train_predictions.flatten() + rf_train_predictions) / 2\n",
        "# test_predictions = (lstm_test_predictions.flatten() + rf_test_predictions) / 2\n",
        "\n",
        "# train_mse = mean_squared_error(y_train, train_predictions)\n",
        "# test_mse = mean_squared_error(y_test, test_predictions)\n",
        "\n",
        "\n",
        "# test_r2 = r2_score(y_test, test_predictions)\n",
        "\n",
        "# print(f'Test MSE: {test_mse}')\n",
        "# print(f'Test R²: {test_r2}')"
      ],
      "metadata": {
        "id": "q58j5m4hwHp-"
      },
      "execution_count": 17,
      "outputs": []
    },
    {
      "cell_type": "code",
      "source": [
        "# Prepare data for LSTM\n",
        "def dataset_lstm(data, time_steps=1):\n",
        "    X, y = [], []\n",
        "    for i in range(len(data) - time_steps):\n",
        "        X.append(data[i:(i + time_steps), :])\n",
        "        # print('X data:',X)\n",
        "        # doing predition for Adj Close\n",
        "        y.append(data[i + time_steps, 0])\n",
        "        # print('Y data:',y)\n",
        "    return np.array(X), np.array(y)\n",
        "print('value of X:',X)\n",
        "print('value of Y:',y)\n",
        "\n",
        "print('shape X:',X.shape)\n",
        "print('shape Y:',y.shape)\n",
        "\n",
        "print('*****************************************')\n",
        "print('value X_train:',X_train)\n",
        "print('value X_test:',X_test)\n",
        "print('value y_train:',y_train)\n",
        "print('value y_test:',y_test)\n",
        "\n",
        "time_steps = 3\n",
        "# sequence creation by adding target to features\n",
        "features_lstm_seq = np.hstack([X_train, y_train.values.reshape(-1, 1)])\n",
        "X_lstm, y_lstm = dataset_lstm(features_lstm_seq, time_steps)\n",
        "\n",
        "print('**********LSTM-Features***********')\n",
        "print('features_lstm_seq:',features_lstm_seq)\n",
        "print('X_lstm:',X_lstm)\n",
        "print('y_lstm:',y_lstm)\n",
        "\n",
        "# Developing the LSTM Model\n",
        "model = Sequential()\n",
        "model.add(LSTM(units=50, return_sequences=True, input_shape=(time_steps, X_lstm.shape[2])))\n",
        "model.add(LSTM(units=50))\n",
        "model.add(Dense(1))\n",
        "\n",
        "model.compile(optimizer='adam', loss='mean_squared_error')\n",
        "model.fit(X_lstm, y_lstm, epochs=50, batch_size=32, verbose=0)\n",
        "\n",
        "# Gettting feature by LSTM for training\n",
        "lstm_feat_train = model.predict(X_lstm)\n",
        "\n",
        "# Developing the Random Forest Model\n",
        "rand_for = RandomForestRegressor(n_estimators=100)\n",
        "\n",
        "# Randon Forest trained by the features of LSTM\n",
        "rand_for.fit(lstm_feat_train, y_lstm)\n",
        "\n",
        "# Prepare test data for LSTM\n",
        "# sequence creation by adding target to features\n",
        "lstm_test = np.hstack([X_test, y_test.values.reshape(-1, 1)])\n",
        "X_lstm_test, y_lstm_test = dataset_lstm(lstm_test, time_steps)\n",
        "\n",
        "# Extract test features from LSTM\n",
        "lstm_test_pred = model.predict(X_lstm_test)\n",
        "\n",
        "# Predict with Random Forest on LSTM features\n",
        "rf_pred = rand_for.predict(lstm_test_pred)\n",
        "\n",
        "# Evaluation\n",
        "rf_rmse = np.sqrt(mean_squared_error(y_lstm_test, rf_pred))\n",
        "rf_mae = mean_absolute_error(y_lstm_test, rf_pred)\n",
        "\n",
        "rf_rmse, rf_mae"
      ],
      "metadata": {
        "id": "gE00Jnbxk3qN",
        "colab": {
          "base_uri": "https://localhost:8080/"
        },
        "outputId": "2ca91ee0-f1fe-4a2a-d35b-e4cf0fc8cfae"
      },
      "execution_count": 19,
      "outputs": [
        {
          "output_type": "stream",
          "name": "stdout",
          "text": [
            "value of X:                 Open      High       Low     Close    Volume\n",
            "Date                                                        \n",
            "2014-06-02  0.001119  0.000000  0.000000  0.000000  0.469584\n",
            "2014-06-03  0.000000  0.000789  0.001175  0.001807  0.365358\n",
            "2014-06-04  0.001827  0.002636  0.002781  0.003288  0.423525\n",
            "2014-06-05  0.003609  0.002935  0.004110  0.003802  0.380448\n",
            "2014-06-06  0.004361  0.003316  0.004490  0.003440  0.443185\n",
            "...              ...       ...       ...       ...       ...\n",
            "2024-05-24  0.947601  0.948911  0.948732  0.953717  0.016654\n",
            "2024-05-28  0.962922  0.962588  0.954797  0.953774  0.038393\n",
            "2024-05-29  0.952100  0.958349  0.957143  0.955482  0.039464\n",
            "2024-05-30  0.958650  0.957954  0.963552  0.961175  0.035221\n",
            "2024-05-31  0.962523  0.960158  0.959432  0.966640  0.069506\n",
            "\n",
            "[2518 rows x 5 columns]\n",
            "value of Y: Date\n",
            "2014-06-02     19.859396\n",
            "2014-06-03     20.140236\n",
            "2014-06-04     20.370214\n",
            "2014-06-05     20.450136\n",
            "2014-06-06     20.393915\n",
            "                 ...    \n",
            "2024-05-24    189.979996\n",
            "2024-05-28    189.990005\n",
            "2024-05-29    190.289993\n",
            "2024-05-30    191.289993\n",
            "2024-05-31    192.250000\n",
            "Name: Adj Close, Length: 2518, dtype: float64\n",
            "shape X: (2518, 5)\n",
            "shape Y: (2518,)\n",
            "*****************************************\n",
            "value X_train:                 Open      High       Low     Close    Volume\n",
            "Date                                                        \n",
            "2014-06-02  0.001119  0.000000  0.000000  0.000000  0.469584\n",
            "2014-06-03  0.000000  0.000789  0.001175  0.001807  0.365358\n",
            "2014-06-04  0.001827  0.002636  0.002781  0.003288  0.423525\n",
            "2014-06-05  0.003609  0.002935  0.004110  0.003802  0.380448\n",
            "2014-06-06  0.004361  0.003316  0.004490  0.003440  0.443185\n",
            "...              ...       ...       ...       ...       ...\n",
            "2022-05-23  0.656956  0.681487  0.660407  0.686892  0.127395\n",
            "2022-05-24  0.674156  0.674197  0.658576  0.671237  0.108908\n",
            "2022-05-25  0.660601  0.673180  0.664355  0.672147  0.093065\n",
            "2022-05-26  0.654677  0.687591  0.657488  0.690706  0.090507\n",
            "2022-05-27  0.700242  0.717769  0.703950  0.724066  0.091020\n",
            "\n",
            "[2014 rows x 5 columns]\n",
            "value X_test:                 Open      High       Low     Close    Volume\n",
            "Date                                                        \n",
            "2022-05-31  0.721202  0.723308  0.712991  0.719512  0.108345\n",
            "2022-06-01  0.725929  0.729411  0.717797  0.718772  0.068320\n",
            "2022-06-02  0.714139  0.726755  0.713105  0.733004  0.065684\n",
            "2022-06-03  0.708842  0.708106  0.699373  0.699815  0.087745\n",
            "2022-06-06  0.709583  0.711496  0.701890  0.704141  0.064664\n",
            "...              ...       ...       ...       ...       ...\n",
            "2024-05-24  0.947601  0.948911  0.948732  0.953717  0.016654\n",
            "2024-05-28  0.962922  0.962588  0.954797  0.953774  0.038393\n",
            "2024-05-29  0.952100  0.958349  0.957143  0.955482  0.039464\n",
            "2024-05-30  0.958650  0.957954  0.963552  0.961175  0.035221\n",
            "2024-05-31  0.962523  0.960158  0.959432  0.966640  0.069506\n",
            "\n",
            "[504 rows x 5 columns]\n",
            "value y_train: Date\n",
            "2014-06-02     19.859396\n",
            "2014-06-03     20.140236\n",
            "2014-06-04     20.370214\n",
            "2014-06-05     20.450136\n",
            "2014-06-06     20.393915\n",
            "                 ...    \n",
            "2022-05-23    141.509018\n",
            "2022-05-24    138.789764\n",
            "2022-05-25    138.947998\n",
            "2022-05-26    142.171524\n",
            "2022-05-27    147.965958\n",
            "Name: Adj Close, Length: 2014, dtype: float64\n",
            "value y_test: Date\n",
            "2022-05-31    147.174896\n",
            "2022-06-01    147.046356\n",
            "2022-06-02    149.518417\n",
            "2022-06-03    143.753616\n",
            "2022-06-06    144.505127\n",
            "                 ...    \n",
            "2024-05-24    189.979996\n",
            "2024-05-28    189.990005\n",
            "2024-05-29    190.289993\n",
            "2024-05-30    191.289993\n",
            "2024-05-31    192.250000\n",
            "Name: Adj Close, Length: 504, dtype: float64\n",
            "**********LSTM-Features***********\n",
            "features_lstm_seq: [[1.11878112e-03 0.00000000e+00 0.00000000e+00 0.00000000e+00\n",
            "  4.69584078e-01 1.98593960e+01]\n",
            " [0.00000000e+00 7.89171956e-04 1.17502728e-03 1.80748165e-03\n",
            "  3.65357566e-01 2.01402360e+01]\n",
            " [1.82665523e-03 2.63596839e-03 2.78123797e-03 3.28762876e-03\n",
            "  4.23525190e-01 2.03702140e+01]\n",
            " ...\n",
            " [6.60600828e-01 6.73179876e-01 6.64354733e-01 6.72147431e-01\n",
            "  9.30653691e-02 1.38947998e+02]\n",
            " [6.54677468e-01 6.87590947e-01 6.57488499e-01 6.90706171e-01\n",
            "  9.05070859e-02 1.42171524e+02]\n",
            " [7.00242040e-01 7.17769374e-01 7.03950109e-01 7.24066409e-01\n",
            "  9.10197761e-02 1.47965958e+02]]\n",
            "X_lstm: [[[1.11878112e-03 0.00000000e+00 0.00000000e+00 0.00000000e+00\n",
            "   4.69584078e-01 1.98593960e+01]\n",
            "  [0.00000000e+00 7.89171956e-04 1.17502728e-03 1.80748165e-03\n",
            "   3.65357566e-01 2.01402360e+01]\n",
            "  [1.82665523e-03 2.63596839e-03 2.78123797e-03 3.28762876e-03\n",
            "   4.23525190e-01 2.03702140e+01]]\n",
            "\n",
            " [[0.00000000e+00 7.89171956e-04 1.17502728e-03 1.80748165e-03\n",
            "   3.65357566e-01 2.01402360e+01]\n",
            "  [1.82665523e-03 2.63596839e-03 2.78123797e-03 3.28762876e-03\n",
            "   4.23525190e-01 2.03702140e+01]\n",
            "  [3.60854897e-03 2.93468412e-03 4.10953142e-03 3.80201973e-03\n",
            "   3.80447792e-01 2.04501360e+01]]\n",
            "\n",
            " [[1.82665523e-03 2.63596839e-03 2.78123797e-03 3.28762876e-03\n",
            "   4.23525190e-01 2.03702140e+01]\n",
            "  [3.60854897e-03 2.93468412e-03 4.10953142e-03 3.80201973e-03\n",
            "   3.80447792e-01 2.04501360e+01]\n",
            "  [4.36117888e-03 3.31615886e-03 4.48963564e-03 3.44011238e-03\n",
            "   4.43184750e-01 2.03939150e+01]]\n",
            "\n",
            " ...\n",
            "\n",
            " [[6.64359922e-01 6.67019879e-01 6.31568412e-01 6.55467266e-01\n",
            "   1.54184837e-01 1.36050751e+02]\n",
            "  [6.56955662e-01 6.81487436e-01 6.60406627e-01 6.86891957e-01\n",
            "   1.27394668e-01 1.41509018e+02]\n",
            "  [6.74156317e-01 6.74197172e-01 6.58575673e-01 6.71236554e-01\n",
            "   1.08908447e-01 1.38789764e+02]]\n",
            "\n",
            " [[6.56955662e-01 6.81487436e-01 6.60406627e-01 6.86891957e-01\n",
            "   1.27394668e-01 1.41509018e+02]\n",
            "  [6.74156317e-01 6.74197172e-01 6.58575673e-01 6.71236554e-01\n",
            "   1.08908447e-01 1.38789764e+02]\n",
            "  [6.60600828e-01 6.73179876e-01 6.64354733e-01 6.72147431e-01\n",
            "   9.30653691e-02 1.38947998e+02]]\n",
            "\n",
            " [[6.74156317e-01 6.74197172e-01 6.58575673e-01 6.71236554e-01\n",
            "   1.08908447e-01 1.38789764e+02]\n",
            "  [6.60600828e-01 6.73179876e-01 6.64354733e-01 6.72147431e-01\n",
            "   9.30653691e-02 1.38947998e+02]\n",
            "  [6.54677468e-01 6.87590947e-01 6.57488499e-01 6.90706171e-01\n",
            "   9.05070859e-02 1.42171524e+02]]]\n",
            "y_lstm: [0.00360855 0.00436118 0.00415776 ... 0.66060083 0.65467747 0.70024204]\n"
          ]
        },
        {
          "output_type": "stream",
          "name": "stderr",
          "text": [
            "/usr/local/lib/python3.10/dist-packages/keras/src/layers/rnn/rnn.py:204: UserWarning: Do not pass an `input_shape`/`input_dim` argument to a layer. When using Sequential models, prefer using an `Input(shape)` object as the first layer in the model instead.\n",
            "  super().__init__(**kwargs)\n"
          ]
        },
        {
          "output_type": "stream",
          "name": "stdout",
          "text": [
            "\u001b[1m63/63\u001b[0m \u001b[32m━━━━━━━━━━━━━━━━━━━━\u001b[0m\u001b[37m\u001b[0m \u001b[1m1s\u001b[0m 7ms/step\n",
            "\u001b[1m16/16\u001b[0m \u001b[32m━━━━━━━━━━━━━━━━━━━━\u001b[0m\u001b[37m\u001b[0m \u001b[1m0s\u001b[0m 2ms/step \n"
          ]
        },
        {
          "output_type": "execute_result",
          "data": {
            "text/plain": [
              "(0.028865578258762323, 0.02017034172507761)"
            ]
          },
          "metadata": {},
          "execution_count": 19
        }
      ]
    },
    {
      "cell_type": "code",
      "source": [
        "test_mse = mean_squared_error(y_lstm_test, rf_pred)\n",
        "\n",
        "test_r2 = r2_score(y_lstm_test, rf_pred)\n",
        "\n",
        "print(f'Test MSE: {test_mse}')\n",
        "print(f'Test R²: {test_r2}')"
      ],
      "metadata": {
        "colab": {
          "base_uri": "https://localhost:8080/"
        },
        "id": "1RvzyZBwmDcY",
        "outputId": "5fa3b82a-2f4c-4eac-acd9-a219611c0d6c"
      },
      "execution_count": 21,
      "outputs": [
        {
          "output_type": "stream",
          "name": "stdout",
          "text": [
            "Test MSE: 0.0008332216082127321\n",
            "Test R²: 0.9270555545520022\n"
          ]
        }
      ]
    }
  ]
}