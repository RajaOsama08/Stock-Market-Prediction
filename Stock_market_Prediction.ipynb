{
  "nbformat": 4,
  "nbformat_minor": 0,
  "metadata": {
    "colab": {
      "provenance": [],
      "authorship_tag": "ABX9TyM2cI3TWddwcL0mU8CvPW9r",
      "include_colab_link": true
    },
    "kernelspec": {
      "name": "python3",
      "display_name": "Python 3"
    },
    "language_info": {
      "name": "python"
    }
  },
  "cells": [
    {
      "cell_type": "markdown",
      "metadata": {
        "id": "view-in-github",
        "colab_type": "text"
      },
      "source": [
        "<a href=\"https://colab.research.google.com/github/RajaOsama08/Stock-Market-Prediction/blob/main/Stock_market_Prediction.ipynb\" target=\"_parent\"><img src=\"https://colab.research.google.com/assets/colab-badge.svg\" alt=\"Open In Colab\"/></a>"
      ]
    },
    {
      "cell_type": "code",
      "execution_count": 18,
      "metadata": {
        "id": "ejc2GG2xdLDq"
      },
      "outputs": [],
      "source": [
        "import pandas as pd\n",
        "import numpy as np\n",
        "from datetime import datetime\n",
        "#import lib for K-NN\n",
        "from sklearn.neighbors import KNeighborsRegressor\n",
        "#import lib for XGBoost\n",
        "from xgboost import XGBRegressor\n",
        "\n",
        "from sklearn.preprocessing import MinMaxScaler\n",
        "from sklearn.model_selection import train_test_split, GridSearchCV\n",
        "from sklearn.metrics import mean_squared_error\n",
        "\n"
      ]
    },
    {
      "cell_type": "code",
      "source": [
        "from google.colab import drive\n",
        "drive.mount('/content/drive')"
      ],
      "metadata": {
        "colab": {
          "base_uri": "https://localhost:8080/"
        },
        "id": "22shwjXRjCF5",
        "outputId": "ee78a35e-63f0-4a39-e804-e3660830902a"
      },
      "execution_count": 2,
      "outputs": [
        {
          "output_type": "stream",
          "name": "stdout",
          "text": [
            "Mounted at /content/drive\n"
          ]
        }
      ]
    },
    {
      "cell_type": "code",
      "source": [
        "# Define the file paths\n",
        "file_paths = {\n",
        "    'AAPL': '/content/drive/MyDrive/stock_data_set/AAPL.csv',\n",
        "    'CSCO': '/content/drive/MyDrive/stock_data_set/CSCO.csv',\n",
        "    'INTC': '/content/drive/MyDrive/stock_data_set/INTC.csv',\n",
        "    'NVDA': '/content/drive/MyDrive/stock_data_set/NVDA.csv',\n",
        "    'SAP': '/content/drive/MyDrive/stock_data_set/SAP.csv'\n",
        "}\n",
        "\n",
        "# Load the datasets into pandas DataFrames\n",
        "dataframes = {symbol: pd.read_csv(path) for symbol, path in file_paths.items()}\n",
        "\n",
        "# Display the first few rows of each DataFrame\n",
        "for symbol, df in dataframes.items():\n",
        "    print(f\"First few rows of {symbol} DataFrame:\")\n",
        "    print(df.head())\n",
        "    print(\"\\n\")\n",
        "\n",
        "# Display the first few rows of the DataFrame\n",
        "print(df.head())"
      ],
      "metadata": {
        "colab": {
          "base_uri": "https://localhost:8080/"
        },
        "id": "fe0QwBwtj1n3",
        "outputId": "95314c0b-d039-4b1e-9632-896e9f102fdb"
      },
      "execution_count": 3,
      "outputs": [
        {
          "output_type": "stream",
          "name": "stdout",
          "text": [
            "First few rows of AAPL DataFrame:\n",
            "         Date       Open       High        Low      Close  Adj Close  \\\n",
            "0  2014-06-02  22.641430  22.672501  22.232143  22.451786  19.859396   \n",
            "1  2014-06-03  22.445000  22.812143  22.437500  22.769285  20.140236   \n",
            "2  2014-06-04  22.765715  23.138929  22.718214  23.029285  20.370214   \n",
            "3  2014-06-05  23.078571  23.191786  22.950357  23.119642  20.450136   \n",
            "4  2014-06-06  23.210714  23.259287  23.016787  23.056070  20.393915   \n",
            "\n",
            "      Volume  \n",
            "0  369350800  \n",
            "1  292709200  \n",
            "2  335482000  \n",
            "3  303805600  \n",
            "4  349938400  \n",
            "\n",
            "\n",
            "First few rows of CSCO DataFrame:\n",
            "         Date       Open       High        Low      Close  Adj Close    Volume\n",
            "0  2014-06-02  24.639999  24.799999  24.559999  24.780001  18.135729  20393300\n",
            "1  2014-06-03  24.750000  24.820000  24.450001  24.680000  18.062546  23339100\n",
            "2  2014-06-04  24.610001  24.650000  24.400000  24.500000  17.930799  20635100\n",
            "3  2014-06-05  24.620001  24.740000  24.410000  24.700001  18.077187  23320300\n",
            "4  2014-06-06  24.730000  24.950001  24.709999  24.830000  18.172319  22485100\n",
            "\n",
            "\n",
            "First few rows of INTC DataFrame:\n",
            "         Date       Open       High        Low  Close  Adj Close    Volume\n",
            "0  2014-06-02  27.309999  27.350000  27.120001  27.26  20.772064  20264900\n",
            "1  2014-06-03  27.219999  27.700001  27.120001  27.66  21.076866  33256300\n",
            "2  2014-06-04  27.510000  27.760000  27.500000  27.60  21.031143  21612500\n",
            "3  2014-06-05  27.559999  27.660000  27.430000  27.66  21.076866  26546200\n",
            "4  2014-06-06  27.780001  28.209999  27.730000  28.17  21.465483  34795600\n",
            "\n",
            "\n",
            "First few rows of NVDA DataFrame:\n",
            "         Date     Open    High      Low    Close  Adj Close     Volume\n",
            "0  2014-06-02  0.47650  0.4795  0.46950  0.47350   0.450742  181500000\n",
            "1  2014-06-03  0.47450  0.4750  0.46525  0.47150   0.448839  243212000\n",
            "2  2014-06-04  0.47025  0.4755  0.47000  0.47200   0.449315  161236000\n",
            "3  2014-06-05  0.47275  0.4755  0.47000  0.47400   0.451218  188696000\n",
            "4  2014-06-06  0.47625  0.4800  0.47450  0.47575   0.452884  161052000\n",
            "\n",
            "\n",
            "First few rows of SAP DataFrame:\n",
            "         Date       Open       High        Low      Close  Adj Close   Volume\n",
            "0  2014-06-02  76.129997  76.180000  75.639999  75.779999  64.404167   537200\n",
            "1  2014-06-03  76.110001  76.470001  76.000000  76.349998  64.888596   430300\n",
            "2  2014-06-04  75.470001  75.739998  75.250000  75.379997  64.064201  1367500\n",
            "3  2014-06-05  75.209999  75.900002  74.970001  75.750000  64.378670   593700\n",
            "4  2014-06-06  75.470001  75.489998  74.970001  75.260002  63.962227  1112400\n",
            "\n",
            "\n",
            "         Date       Open       High        Low      Close  Adj Close   Volume\n",
            "0  2014-06-02  76.129997  76.180000  75.639999  75.779999  64.404167   537200\n",
            "1  2014-06-03  76.110001  76.470001  76.000000  76.349998  64.888596   430300\n",
            "2  2014-06-04  75.470001  75.739998  75.250000  75.379997  64.064201  1367500\n",
            "3  2014-06-05  75.209999  75.900002  74.970001  75.750000  64.378670   593700\n",
            "4  2014-06-06  75.470001  75.489998  74.970001  75.260002  63.962227  1112400\n"
          ]
        }
      ]
    },
    {
      "cell_type": "code",
      "source": [
        "df1 = dataframes['AAPL']\n",
        "df2 = dataframes['CSCO']\n",
        "df3 = dataframes['INTC']\n",
        "df4 = dataframes['NVDA']\n",
        "df5 = dataframes['SAP']\n",
        "print(df1)"
      ],
      "metadata": {
        "colab": {
          "base_uri": "https://localhost:8080/"
        },
        "id": "ZkeqkRsVFenh",
        "outputId": "c4921b23-0695-4109-bd01-2b7877242c79"
      },
      "execution_count": 4,
      "outputs": [
        {
          "output_type": "stream",
          "name": "stdout",
          "text": [
            "            Date        Open        High         Low       Close   Adj Close  \\\n",
            "0     2014-06-02   22.641430   22.672501   22.232143   22.451786   19.859396   \n",
            "1     2014-06-03   22.445000   22.812143   22.437500   22.769285   20.140236   \n",
            "2     2014-06-04   22.765715   23.138929   22.718214   23.029285   20.370214   \n",
            "3     2014-06-05   23.078571   23.191786   22.950357   23.119642   20.450136   \n",
            "4     2014-06-06   23.210714   23.259287   23.016787   23.056070   20.393915   \n",
            "...          ...         ...         ...         ...         ...         ...   \n",
            "2513  2024-05-24  188.820007  190.580002  188.039993  189.979996  189.979996   \n",
            "2514  2024-05-28  191.509995  193.000000  189.100006  189.990005  189.990005   \n",
            "2515  2024-05-29  189.610001  192.250000  189.509995  190.289993  190.289993   \n",
            "2516  2024-05-30  190.759995  192.179993  190.630005  191.289993  191.289993   \n",
            "2517  2024-05-31  191.440002  192.570007  189.910004  192.250000  192.250000   \n",
            "\n",
            "         Volume  \n",
            "0     369350800  \n",
            "1     292709200  \n",
            "2     335482000  \n",
            "3     303805600  \n",
            "4     349938400  \n",
            "...         ...  \n",
            "2513   36294600  \n",
            "2514   52280100  \n",
            "2515   53068000  \n",
            "2516   49947900  \n",
            "2517   75158300  \n",
            "\n",
            "[2518 rows x 7 columns]\n"
          ]
        }
      ]
    },
    {
      "cell_type": "code",
      "source": [
        "df1['Date'] = pd.to_datetime(df1['Date'])\n",
        "print('first print',df1)\n",
        "print('\\n')\n",
        "df1.set_index('Date', inplace=True)\n",
        "print('second print',df1)\n",
        "print('\\n')"
      ],
      "metadata": {
        "colab": {
          "base_uri": "https://localhost:8080/"
        },
        "id": "34Ir1ghjZlL7",
        "outputId": "7a056665-5bbf-444d-e41a-9f2cfaecfd76"
      },
      "execution_count": 5,
      "outputs": [
        {
          "output_type": "stream",
          "name": "stdout",
          "text": [
            "first print            Date        Open        High         Low       Close   Adj Close  \\\n",
            "0    2014-06-02   22.641430   22.672501   22.232143   22.451786   19.859396   \n",
            "1    2014-06-03   22.445000   22.812143   22.437500   22.769285   20.140236   \n",
            "2    2014-06-04   22.765715   23.138929   22.718214   23.029285   20.370214   \n",
            "3    2014-06-05   23.078571   23.191786   22.950357   23.119642   20.450136   \n",
            "4    2014-06-06   23.210714   23.259287   23.016787   23.056070   20.393915   \n",
            "...         ...         ...         ...         ...         ...         ...   \n",
            "2513 2024-05-24  188.820007  190.580002  188.039993  189.979996  189.979996   \n",
            "2514 2024-05-28  191.509995  193.000000  189.100006  189.990005  189.990005   \n",
            "2515 2024-05-29  189.610001  192.250000  189.509995  190.289993  190.289993   \n",
            "2516 2024-05-30  190.759995  192.179993  190.630005  191.289993  191.289993   \n",
            "2517 2024-05-31  191.440002  192.570007  189.910004  192.250000  192.250000   \n",
            "\n",
            "         Volume  \n",
            "0     369350800  \n",
            "1     292709200  \n",
            "2     335482000  \n",
            "3     303805600  \n",
            "4     349938400  \n",
            "...         ...  \n",
            "2513   36294600  \n",
            "2514   52280100  \n",
            "2515   53068000  \n",
            "2516   49947900  \n",
            "2517   75158300  \n",
            "\n",
            "[2518 rows x 7 columns]\n",
            "\n",
            "\n",
            "second print                   Open        High         Low       Close   Adj Close  \\\n",
            "Date                                                                     \n",
            "2014-06-02   22.641430   22.672501   22.232143   22.451786   19.859396   \n",
            "2014-06-03   22.445000   22.812143   22.437500   22.769285   20.140236   \n",
            "2014-06-04   22.765715   23.138929   22.718214   23.029285   20.370214   \n",
            "2014-06-05   23.078571   23.191786   22.950357   23.119642   20.450136   \n",
            "2014-06-06   23.210714   23.259287   23.016787   23.056070   20.393915   \n",
            "...                ...         ...         ...         ...         ...   \n",
            "2024-05-24  188.820007  190.580002  188.039993  189.979996  189.979996   \n",
            "2024-05-28  191.509995  193.000000  189.100006  189.990005  189.990005   \n",
            "2024-05-29  189.610001  192.250000  189.509995  190.289993  190.289993   \n",
            "2024-05-30  190.759995  192.179993  190.630005  191.289993  191.289993   \n",
            "2024-05-31  191.440002  192.570007  189.910004  192.250000  192.250000   \n",
            "\n",
            "               Volume  \n",
            "Date                   \n",
            "2014-06-02  369350800  \n",
            "2014-06-03  292709200  \n",
            "2014-06-04  335482000  \n",
            "2014-06-05  303805600  \n",
            "2014-06-06  349938400  \n",
            "...               ...  \n",
            "2024-05-24   36294600  \n",
            "2024-05-28   52280100  \n",
            "2024-05-29   53068000  \n",
            "2024-05-30   49947900  \n",
            "2024-05-31   75158300  \n",
            "\n",
            "[2518 rows x 6 columns]\n",
            "\n",
            "\n"
          ]
        }
      ]
    },
    {
      "cell_type": "markdown",
      "source": [
        "**Handling missing values**"
      ],
      "metadata": {
        "id": "C_0NsEeCeP1a"
      }
    },
    {
      "cell_type": "code",
      "source": [
        "# Check for missing values\n",
        "missing_values = df1.isnull().sum()\n",
        "print(missing_values)"
      ],
      "metadata": {
        "colab": {
          "base_uri": "https://localhost:8080/"
        },
        "id": "-iceBmrba2X4",
        "outputId": "b546f513-7f86-44c8-8804-3f821568031a"
      },
      "execution_count": 6,
      "outputs": [
        {
          "output_type": "stream",
          "name": "stdout",
          "text": [
            "Open         0\n",
            "High         0\n",
            "Low          0\n",
            "Close        0\n",
            "Adj Close    0\n",
            "Volume       0\n",
            "dtype: int64\n"
          ]
        }
      ]
    },
    {
      "cell_type": "markdown",
      "source": [
        "**Feature Engineerig**\n",
        "\n"
      ],
      "metadata": {
        "id": "wZbaOVgxd6H-"
      }
    },
    {
      "cell_type": "code",
      "source": [
        "# Moving averages\n",
        "df1['MA10'] = df1['Adj Close'].rolling(window=10).mean()\n",
        "df1['MA50'] = df1['Adj Close'].rolling(window=50).mean()\n",
        "\n",
        "# Daily returns\n",
        "print('Daily returns')\n",
        "df1['Daily Return'] = df1['Adj Close'].pct_change()\n",
        "\n",
        "# Volatility\n",
        "print('volatility')\n",
        "df1['Volatility'] = df1['Daily Return'].rolling(window=10).std()\n",
        "\n",
        "print(df1)"
      ],
      "metadata": {
        "colab": {
          "base_uri": "https://localhost:8080/"
        },
        "id": "_ffzTCsndgvN",
        "outputId": "14db9cea-64bb-4eac-c484-fcffa0aec075"
      },
      "execution_count": 7,
      "outputs": [
        {
          "output_type": "stream",
          "name": "stdout",
          "text": [
            "Daily returns\n",
            "volatility\n",
            "                  Open        High         Low       Close   Adj Close  \\\n",
            "Date                                                                     \n",
            "2014-06-02   22.641430   22.672501   22.232143   22.451786   19.859396   \n",
            "2014-06-03   22.445000   22.812143   22.437500   22.769285   20.140236   \n",
            "2014-06-04   22.765715   23.138929   22.718214   23.029285   20.370214   \n",
            "2014-06-05   23.078571   23.191786   22.950357   23.119642   20.450136   \n",
            "2014-06-06   23.210714   23.259287   23.016787   23.056070   20.393915   \n",
            "...                ...         ...         ...         ...         ...   \n",
            "2024-05-24  188.820007  190.580002  188.039993  189.979996  189.979996   \n",
            "2024-05-28  191.509995  193.000000  189.100006  189.990005  189.990005   \n",
            "2024-05-29  189.610001  192.250000  189.509995  190.289993  190.289993   \n",
            "2024-05-30  190.759995  192.179993  190.630005  191.289993  191.289993   \n",
            "2024-05-31  191.440002  192.570007  189.910004  192.250000  192.250000   \n",
            "\n",
            "               Volume        MA10        MA50  Daily Return  Volatility  \n",
            "Date                                                                     \n",
            "2014-06-02  369350800         NaN         NaN           NaN         NaN  \n",
            "2014-06-03  292709200         NaN         NaN      0.014141         NaN  \n",
            "2014-06-04  335482000         NaN         NaN      0.011419         NaN  \n",
            "2014-06-05  303805600         NaN         NaN      0.003923         NaN  \n",
            "2014-06-06  349938400         NaN         NaN     -0.002749         NaN  \n",
            "...               ...         ...         ...           ...         ...  \n",
            "2024-05-24   36294600  189.428998  175.735192      0.016588    0.011626  \n",
            "2024-05-28   52280100  189.799998  176.087269      0.000053    0.010579  \n",
            "2024-05-29   53068000  190.085998  176.423375      0.001579    0.010478  \n",
            "2024-05-30   49947900  190.242998  176.732345      0.005255    0.009907  \n",
            "2024-05-31   75158300  190.483998  177.008785      0.005019    0.009993  \n",
            "\n",
            "[2518 rows x 10 columns]\n"
          ]
        }
      ]
    },
    {
      "cell_type": "markdown",
      "source": [
        "**Dropping NaN**"
      ],
      "metadata": {
        "id": "5mUxcaZt21Zr"
      }
    },
    {
      "cell_type": "code",
      "source": [
        "print(pd.isna(df1).sum().sum())\n",
        "# Drop rows with NaNs\n",
        "df1.dropna(inplace=True)"
      ],
      "metadata": {
        "colab": {
          "base_uri": "https://localhost:8080/"
        },
        "id": "smBJoU8pxQJ8",
        "outputId": "387a04f8-150e-4e75-c6e9-7b1cc55abeb0"
      },
      "execution_count": 8,
      "outputs": [
        {
          "output_type": "stream",
          "name": "stdout",
          "text": [
            "69\n"
          ]
        }
      ]
    },
    {
      "cell_type": "code",
      "source": [
        "scaler = MinMaxScaler()\n",
        "\n",
        "# Scaling the features except for the target variable (Adj Close)\n",
        "df1[['Open', 'High', 'Low', 'Close', 'Volume', 'MA10', 'MA50', 'Daily Return', 'Volatility']] = scaler.fit_transform(\n",
        "    df1[['Open', 'High', 'Low', 'Close', 'Volume', 'MA10', 'MA50', 'Daily Return', 'Volatility']])"
      ],
      "metadata": {
        "id": "pe5itfjiehwl"
      },
      "execution_count": 9,
      "outputs": []
    },
    {
      "cell_type": "markdown",
      "source": [
        "**Setting data for model prepration**"
      ],
      "metadata": {
        "id": "AfIT0zLLsoDg"
      }
    },
    {
      "cell_type": "code",
      "source": [
        "# Define features and target variable\n",
        "features = ['Open', 'High', 'Low', 'Close', 'Volume', 'MA10', 'MA50', 'Daily Return', 'Volatility']\n",
        "X = df1[features]\n",
        "y = df1['Adj Close']"
      ],
      "metadata": {
        "id": "H5I2IeMUscUL"
      },
      "execution_count": 10,
      "outputs": []
    },
    {
      "cell_type": "markdown",
      "source": [
        "**Data Sampling for test-train**"
      ],
      "metadata": {
        "id": "cqq2UK0Jsxyw"
      }
    },
    {
      "cell_type": "code",
      "source": [
        "X_train, X_test, y_train, y_test = train_test_split(X, y, test_size=0.2, shuffle=False)"
      ],
      "metadata": {
        "id": "XRHJR0p1shU1"
      },
      "execution_count": 14,
      "outputs": []
    },
    {
      "cell_type": "code",
      "source": [
        "# K-NN model\n",
        "knn_model = KNeighborsRegressor()\n",
        "\n",
        "# Hyperparameter tuning using GridSearchCV\n",
        "HyperParams = {'n_neighbors': range(1, 20)}\n",
        "grid_search_cv = GridSearchCV(knn_model, HyperParams, cv=5, scoring='neg_mean_squared_error')\n",
        "grid_search_cv.fit(X_train, y_train)\n",
        "\n",
        "# Get the best K-NN model\n",
        "best_knn_est = grid_search_cv.best_estimator_\n",
        "\n",
        "# Model Train on training data set\n",
        "best_knn_est.fit(X_train, y_train)\n",
        "\n",
        "# Performing prediction on test data set\n",
        "y_pred = best_knn_est.predict(X_test)\n",
        "\n",
        "# Model Evaluation\n",
        "K_mse = mean_squared_error(y_test, y_pred)\n",
        "rmse = K_mse ** 0.5\n",
        "\n",
        "print(f\"Best K-NN model: {best_knn_est}\")\n",
        "print(f\"RMSE on test set: {rmse}\")\n",
        "\n",
        "# Predicting the Adj Close price for the next day\n",
        "next_day_features_KNN = X.iloc[-1].values.reshape(1, -1)\n",
        "next_day_prediction_KNN = best_knn_est.predict(next_day_features_KNN)\n",
        "print(f\"Predicted Adj Close price for the next day: {next_day_prediction_KNN[0]}\")"
      ],
      "metadata": {
        "colab": {
          "base_uri": "https://localhost:8080/"
        },
        "id": "k-TSkxW_yNU2",
        "outputId": "bb46b0c1-366e-4b7d-ed7f-1c8024361d46"
      },
      "execution_count": 16,
      "outputs": [
        {
          "output_type": "stream",
          "name": "stdout",
          "text": [
            "Best K-NN model: KNeighborsRegressor(n_neighbors=1)\n",
            "RMSE on test set: 7.096278183634583\n",
            "Predicted Adj Close price for the next day: 177.203201\n"
          ]
        },
        {
          "output_type": "stream",
          "name": "stderr",
          "text": [
            "/usr/local/lib/python3.10/dist-packages/sklearn/base.py:439: UserWarning: X does not have valid feature names, but KNeighborsRegressor was fitted with feature names\n",
            "  warnings.warn(\n"
          ]
        }
      ]
    },
    {
      "cell_type": "code",
      "source": [
        "# Step 4: XGBoost Model\n",
        "xgb_model = XGBRegressor(objective='reg:squarederror')\n",
        "xgb_model.fit(X_train, y_train)\n",
        "\n",
        "# Predict on the test set\n",
        "y_pred = xgb_model.predict(X_test)\n",
        "\n",
        "# Evaluate the model\n",
        "XGB_mse = mean_squared_error(y_test, y_pred)\n",
        "rmse = XGB_mse ** 0.5\n",
        "\n",
        "print(f\"RMSE on test set: {rmse}\")\n",
        "\n",
        "# Predicting the Adj Close price for the next day\n",
        "next_day_features_XGB = pd.DataFrame([X.iloc[-1]], columns=features)\n",
        "next_day_features_scaled = scaler.transform(next_day_features_XGB)\n",
        "next_day_prediction_XGB = xgb_model.predict(next_day_features_scaled)\n",
        "print(f\"Predicted Adj Close price for the next day: {next_day_prediction_XGB[0]}\")"
      ],
      "metadata": {
        "colab": {
          "base_uri": "https://localhost:8080/"
        },
        "id": "VqjzXQNXSpPs",
        "outputId": "dfadc3d4-2410-49f8-aff6-0d84f9dceec5"
      },
      "execution_count": 19,
      "outputs": [
        {
          "output_type": "stream",
          "name": "stdout",
          "text": [
            "RMSE on test set: 6.467728803667712\n",
            "Predicted Adj Close price for the next day: 21.71510887145996\n"
          ]
        }
      ]
    }
  ]
}