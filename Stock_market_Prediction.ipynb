{
  "nbformat": 4,
  "nbformat_minor": 0,
  "metadata": {
    "colab": {
      "provenance": [],
      "authorship_tag": "ABX9TyPJJAcRj3XlSm1JT73yefxv",
      "include_colab_link": true
    },
    "kernelspec": {
      "name": "python3",
      "display_name": "Python 3"
    },
    "language_info": {
      "name": "python"
    }
  },
  "cells": [
    {
      "cell_type": "markdown",
      "metadata": {
        "id": "view-in-github",
        "colab_type": "text"
      },
      "source": [
        "<a href=\"https://colab.research.google.com/github/RajaOsama08/Stock-Market-Prediction/blob/main/Stock_market_Prediction.ipynb\" target=\"_parent\"><img src=\"https://colab.research.google.com/assets/colab-badge.svg\" alt=\"Open In Colab\"/></a>"
      ]
    },
    {
      "cell_type": "code",
      "execution_count": 6,
      "metadata": {
        "id": "ejc2GG2xdLDq"
      },
      "outputs": [],
      "source": [
        "import pandas as pd\n",
        "import numpy as np"
      ]
    },
    {
      "cell_type": "code",
      "source": [
        "from google.colab import drive\n",
        "drive.mount('/content/drive')"
      ],
      "metadata": {
        "colab": {
          "base_uri": "https://localhost:8080/"
        },
        "id": "22shwjXRjCF5",
        "outputId": "603b4d55-87ab-4485-aa56-e600549994e1"
      },
      "execution_count": 3,
      "outputs": [
        {
          "output_type": "stream",
          "name": "stdout",
          "text": [
            "Mounted at /content/drive\n"
          ]
        }
      ]
    },
    {
      "cell_type": "code",
      "source": [
        "# Define the file paths\n",
        "file_paths = {\n",
        "    'AAPL': '/content/drive/MyDrive/stock_data_set/AAPL.csv',\n",
        "    'CSCO': '/content/drive/MyDrive/stock_data_set/CSCO.csv',\n",
        "    'INTC': '/content/drive/MyDrive/stock_data_set/INTC.csv',\n",
        "    'NVDA': '/content/drive/MyDrive/stock_data_set/NVDA.csv',\n",
        "    'SAP': '/content/drive/MyDrive/stock_data_set/SAP.csv'\n",
        "}\n",
        "\n",
        "# Load the datasets into pandas DataFrames\n",
        "dataframes = {symbol: pd.read_csv(path) for symbol, path in file_paths.items()}\n",
        "\n",
        "# Display the first few rows of each DataFrame\n",
        "for symbol, df in dataframes.items():\n",
        "    print(f\"First few rows of {symbol} DataFrame:\")\n",
        "    print(df.head())\n",
        "    print(\"\\n\")\n",
        "\n",
        "# Display the first few rows of the DataFrame\n",
        "print(df.head())"
      ],
      "metadata": {
        "colab": {
          "base_uri": "https://localhost:8080/"
        },
        "id": "fe0QwBwtj1n3",
        "outputId": "f65b4e61-e31f-4e54-f3fb-577a9f939fbf"
      },
      "execution_count": 5,
      "outputs": [
        {
          "output_type": "stream",
          "name": "stdout",
          "text": [
            "First few rows of AAPL DataFrame:\n",
            "         Date       Open       High        Low      Close  Adj Close  \\\n",
            "0  2014-06-02  22.641430  22.672501  22.232143  22.451786  19.859396   \n",
            "1  2014-06-03  22.445000  22.812143  22.437500  22.769285  20.140236   \n",
            "2  2014-06-04  22.765715  23.138929  22.718214  23.029285  20.370214   \n",
            "3  2014-06-05  23.078571  23.191786  22.950357  23.119642  20.450136   \n",
            "4  2014-06-06  23.210714  23.259287  23.016787  23.056070  20.393915   \n",
            "\n",
            "      Volume  \n",
            "0  369350800  \n",
            "1  292709200  \n",
            "2  335482000  \n",
            "3  303805600  \n",
            "4  349938400  \n",
            "\n",
            "\n",
            "First few rows of CSCO DataFrame:\n",
            "         Date       Open       High        Low      Close  Adj Close    Volume\n",
            "0  2014-06-02  24.639999  24.799999  24.559999  24.780001  18.135729  20393300\n",
            "1  2014-06-03  24.750000  24.820000  24.450001  24.680000  18.062546  23339100\n",
            "2  2014-06-04  24.610001  24.650000  24.400000  24.500000  17.930799  20635100\n",
            "3  2014-06-05  24.620001  24.740000  24.410000  24.700001  18.077187  23320300\n",
            "4  2014-06-06  24.730000  24.950001  24.709999  24.830000  18.172319  22485100\n",
            "\n",
            "\n",
            "First few rows of INTC DataFrame:\n",
            "         Date       Open       High        Low  Close  Adj Close    Volume\n",
            "0  2014-06-02  27.309999  27.350000  27.120001  27.26  20.772064  20264900\n",
            "1  2014-06-03  27.219999  27.700001  27.120001  27.66  21.076866  33256300\n",
            "2  2014-06-04  27.510000  27.760000  27.500000  27.60  21.031143  21612500\n",
            "3  2014-06-05  27.559999  27.660000  27.430000  27.66  21.076866  26546200\n",
            "4  2014-06-06  27.780001  28.209999  27.730000  28.17  21.465483  34795600\n",
            "\n",
            "\n",
            "First few rows of NVDA DataFrame:\n",
            "         Date     Open    High      Low    Close  Adj Close     Volume\n",
            "0  2014-06-02  0.47650  0.4795  0.46950  0.47350   0.450742  181500000\n",
            "1  2014-06-03  0.47450  0.4750  0.46525  0.47150   0.448839  243212000\n",
            "2  2014-06-04  0.47025  0.4755  0.47000  0.47200   0.449315  161236000\n",
            "3  2014-06-05  0.47275  0.4755  0.47000  0.47400   0.451218  188696000\n",
            "4  2014-06-06  0.47625  0.4800  0.47450  0.47575   0.452884  161052000\n",
            "\n",
            "\n",
            "First few rows of SAP DataFrame:\n",
            "         Date       Open       High        Low      Close  Adj Close   Volume\n",
            "0  2014-06-02  76.129997  76.180000  75.639999  75.779999  64.404167   537200\n",
            "1  2014-06-03  76.110001  76.470001  76.000000  76.349998  64.888596   430300\n",
            "2  2014-06-04  75.470001  75.739998  75.250000  75.379997  64.064201  1367500\n",
            "3  2014-06-05  75.209999  75.900002  74.970001  75.750000  64.378670   593700\n",
            "4  2014-06-06  75.470001  75.489998  74.970001  75.260002  63.962227  1112400\n",
            "\n",
            "\n",
            "         Date       Open       High        Low      Close  Adj Close   Volume\n",
            "0  2014-06-02  76.129997  76.180000  75.639999  75.779999  64.404167   537200\n",
            "1  2014-06-03  76.110001  76.470001  76.000000  76.349998  64.888596   430300\n",
            "2  2014-06-04  75.470001  75.739998  75.250000  75.379997  64.064201  1367500\n",
            "3  2014-06-05  75.209999  75.900002  74.970001  75.750000  64.378670   593700\n",
            "4  2014-06-06  75.470001  75.489998  74.970001  75.260002  63.962227  1112400\n"
          ]
        }
      ]
    }
  ]
}