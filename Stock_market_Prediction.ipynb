{
  "nbformat": 4,
  "nbformat_minor": 0,
  "metadata": {
    "colab": {
      "provenance": [],
      "authorship_tag": "ABX9TyP7zMVJonc3hi/1hpo0GaU6",
      "include_colab_link": true
    },
    "kernelspec": {
      "name": "python3",
      "display_name": "Python 3"
    },
    "language_info": {
      "name": "python"
    }
  },
  "cells": [
    {
      "cell_type": "markdown",
      "metadata": {
        "id": "view-in-github",
        "colab_type": "text"
      },
      "source": [
        "<a href=\"https://colab.research.google.com/github/RajaOsama08/Stock-Market-Prediction/blob/main/Stock_market_Prediction.ipynb\" target=\"_parent\"><img src=\"https://colab.research.google.com/assets/colab-badge.svg\" alt=\"Open In Colab\"/></a>"
      ]
    },
    {
      "cell_type": "code",
      "execution_count": 2,
      "metadata": {
        "id": "ejc2GG2xdLDq"
      },
      "outputs": [],
      "source": [
        "import pandas as pd\n",
        "import numpy as np\n",
        "from datetime import datetime\n",
        "#import lib for K-NN\n",
        "from sklearn.neighbors import KNeighborsRegressor\n",
        "#import lib for XGBoost\n",
        "from xgboost import XGBRegressor\n",
        "\n",
        "from sklearn.preprocessing import MinMaxScaler\n",
        "from sklearn.model_selection import train_test_split, GridSearchCV\n",
        "from sklearn.metrics import mean_squared_error\n",
        "#import lib for LSTM model\n",
        "import tensorflow as tf\n",
        "from tensorflow.keras.models import Sequential\n",
        "from tensorflow.keras.layers import LSTM, Dense, Dropout\n",
        "# import lib for random forest model\n",
        "from sklearn.ensemble import RandomForestRegressor\n",
        "\n"
      ]
    },
    {
      "cell_type": "code",
      "source": [
        "from google.colab import drive\n",
        "drive.mount('/content/drive')"
      ],
      "metadata": {
        "colab": {
          "base_uri": "https://localhost:8080/"
        },
        "id": "22shwjXRjCF5",
        "outputId": "fe64e29d-8b7d-4aae-bd5d-924edc8169ae"
      },
      "execution_count": 3,
      "outputs": [
        {
          "output_type": "stream",
          "name": "stdout",
          "text": [
            "Mounted at /content/drive\n"
          ]
        }
      ]
    },
    {
      "cell_type": "code",
      "source": [
        "# Define the file paths\n",
        "file_paths = {\n",
        "    'AAPL': '/content/drive/MyDrive/stock_data_set/AAPL.csv',\n",
        "    'CSCO': '/content/drive/MyDrive/stock_data_set/CSCO.csv',\n",
        "    'INTC': '/content/drive/MyDrive/stock_data_set/INTC.csv',\n",
        "    'NVDA': '/content/drive/MyDrive/stock_data_set/NVDA.csv',\n",
        "    'SAP': '/content/drive/MyDrive/stock_data_set/SAP.csv'\n",
        "}\n",
        "\n",
        "# Load the datasets into pandas DataFrames\n",
        "dataframes = {symbol: pd.read_csv(path) for symbol, path in file_paths.items()}\n",
        "\n",
        "# Display the first few rows of each DataFrame\n",
        "for symbol, df in dataframes.items():\n",
        "    print(f\"First few rows of {symbol} DataFrame:\")\n",
        "    print(df.head())\n",
        "    print(\"\\n\")\n",
        "\n",
        "# Display the first few rows of the DataFrame\n",
        "print(df.head())"
      ],
      "metadata": {
        "colab": {
          "base_uri": "https://localhost:8080/"
        },
        "id": "fe0QwBwtj1n3",
        "outputId": "f401ae42-39d5-4962-88d1-b555ff9d6558"
      },
      "execution_count": 4,
      "outputs": [
        {
          "output_type": "stream",
          "name": "stdout",
          "text": [
            "First few rows of AAPL DataFrame:\n",
            "         Date       Open       High        Low      Close  Adj Close  \\\n",
            "0  2014-06-02  22.641430  22.672501  22.232143  22.451786  19.859396   \n",
            "1  2014-06-03  22.445000  22.812143  22.437500  22.769285  20.140236   \n",
            "2  2014-06-04  22.765715  23.138929  22.718214  23.029285  20.370214   \n",
            "3  2014-06-05  23.078571  23.191786  22.950357  23.119642  20.450136   \n",
            "4  2014-06-06  23.210714  23.259287  23.016787  23.056070  20.393915   \n",
            "\n",
            "      Volume  \n",
            "0  369350800  \n",
            "1  292709200  \n",
            "2  335482000  \n",
            "3  303805600  \n",
            "4  349938400  \n",
            "\n",
            "\n",
            "First few rows of CSCO DataFrame:\n",
            "         Date       Open       High        Low      Close  Adj Close    Volume\n",
            "0  2014-06-02  24.639999  24.799999  24.559999  24.780001  18.135729  20393300\n",
            "1  2014-06-03  24.750000  24.820000  24.450001  24.680000  18.062546  23339100\n",
            "2  2014-06-04  24.610001  24.650000  24.400000  24.500000  17.930799  20635100\n",
            "3  2014-06-05  24.620001  24.740000  24.410000  24.700001  18.077187  23320300\n",
            "4  2014-06-06  24.730000  24.950001  24.709999  24.830000  18.172319  22485100\n",
            "\n",
            "\n",
            "First few rows of INTC DataFrame:\n",
            "         Date       Open       High        Low  Close  Adj Close    Volume\n",
            "0  2014-06-02  27.309999  27.350000  27.120001  27.26  20.772064  20264900\n",
            "1  2014-06-03  27.219999  27.700001  27.120001  27.66  21.076866  33256300\n",
            "2  2014-06-04  27.510000  27.760000  27.500000  27.60  21.031143  21612500\n",
            "3  2014-06-05  27.559999  27.660000  27.430000  27.66  21.076866  26546200\n",
            "4  2014-06-06  27.780001  28.209999  27.730000  28.17  21.465483  34795600\n",
            "\n",
            "\n",
            "First few rows of NVDA DataFrame:\n",
            "         Date     Open    High      Low    Close  Adj Close     Volume\n",
            "0  2014-06-02  0.47650  0.4795  0.46950  0.47350   0.450742  181500000\n",
            "1  2014-06-03  0.47450  0.4750  0.46525  0.47150   0.448839  243212000\n",
            "2  2014-06-04  0.47025  0.4755  0.47000  0.47200   0.449315  161236000\n",
            "3  2014-06-05  0.47275  0.4755  0.47000  0.47400   0.451218  188696000\n",
            "4  2014-06-06  0.47625  0.4800  0.47450  0.47575   0.452884  161052000\n",
            "\n",
            "\n",
            "First few rows of SAP DataFrame:\n",
            "         Date       Open       High        Low      Close  Adj Close   Volume\n",
            "0  2014-06-02  76.129997  76.180000  75.639999  75.779999  64.404167   537200\n",
            "1  2014-06-03  76.110001  76.470001  76.000000  76.349998  64.888596   430300\n",
            "2  2014-06-04  75.470001  75.739998  75.250000  75.379997  64.064201  1367500\n",
            "3  2014-06-05  75.209999  75.900002  74.970001  75.750000  64.378670   593700\n",
            "4  2014-06-06  75.470001  75.489998  74.970001  75.260002  63.962227  1112400\n",
            "\n",
            "\n",
            "         Date       Open       High        Low      Close  Adj Close   Volume\n",
            "0  2014-06-02  76.129997  76.180000  75.639999  75.779999  64.404167   537200\n",
            "1  2014-06-03  76.110001  76.470001  76.000000  76.349998  64.888596   430300\n",
            "2  2014-06-04  75.470001  75.739998  75.250000  75.379997  64.064201  1367500\n",
            "3  2014-06-05  75.209999  75.900002  74.970001  75.750000  64.378670   593700\n",
            "4  2014-06-06  75.470001  75.489998  74.970001  75.260002  63.962227  1112400\n"
          ]
        }
      ]
    },
    {
      "cell_type": "code",
      "source": [
        "df1 = dataframes['AAPL']\n",
        "df2 = dataframes['CSCO']\n",
        "df3 = dataframes['INTC']\n",
        "df4 = dataframes['NVDA']\n",
        "df5 = dataframes['SAP']\n",
        "print(df1)"
      ],
      "metadata": {
        "colab": {
          "base_uri": "https://localhost:8080/"
        },
        "id": "ZkeqkRsVFenh",
        "outputId": "f502b4d8-7fd0-417a-c305-6f499513e768"
      },
      "execution_count": 5,
      "outputs": [
        {
          "output_type": "stream",
          "name": "stdout",
          "text": [
            "            Date        Open        High         Low       Close   Adj Close  \\\n",
            "0     2014-06-02   22.641430   22.672501   22.232143   22.451786   19.859396   \n",
            "1     2014-06-03   22.445000   22.812143   22.437500   22.769285   20.140236   \n",
            "2     2014-06-04   22.765715   23.138929   22.718214   23.029285   20.370214   \n",
            "3     2014-06-05   23.078571   23.191786   22.950357   23.119642   20.450136   \n",
            "4     2014-06-06   23.210714   23.259287   23.016787   23.056070   20.393915   \n",
            "...          ...         ...         ...         ...         ...         ...   \n",
            "2513  2024-05-24  188.820007  190.580002  188.039993  189.979996  189.979996   \n",
            "2514  2024-05-28  191.509995  193.000000  189.100006  189.990005  189.990005   \n",
            "2515  2024-05-29  189.610001  192.250000  189.509995  190.289993  190.289993   \n",
            "2516  2024-05-30  190.759995  192.179993  190.630005  191.289993  191.289993   \n",
            "2517  2024-05-31  191.440002  192.570007  189.910004  192.250000  192.250000   \n",
            "\n",
            "         Volume  \n",
            "0     369350800  \n",
            "1     292709200  \n",
            "2     335482000  \n",
            "3     303805600  \n",
            "4     349938400  \n",
            "...         ...  \n",
            "2513   36294600  \n",
            "2514   52280100  \n",
            "2515   53068000  \n",
            "2516   49947900  \n",
            "2517   75158300  \n",
            "\n",
            "[2518 rows x 7 columns]\n"
          ]
        }
      ]
    },
    {
      "cell_type": "code",
      "source": [
        "df1['Date'] = pd.to_datetime(df1['Date'])\n",
        "print('first print',df1)\n",
        "print('\\n')\n",
        "df1.set_index('Date', inplace=True)\n",
        "print('second print',df1)\n",
        "print('\\n')"
      ],
      "metadata": {
        "colab": {
          "base_uri": "https://localhost:8080/"
        },
        "id": "34Ir1ghjZlL7",
        "outputId": "b30fb923-d2f0-4502-d840-67e26ff99bc9"
      },
      "execution_count": 6,
      "outputs": [
        {
          "output_type": "stream",
          "name": "stdout",
          "text": [
            "first print            Date        Open        High         Low       Close   Adj Close  \\\n",
            "0    2014-06-02   22.641430   22.672501   22.232143   22.451786   19.859396   \n",
            "1    2014-06-03   22.445000   22.812143   22.437500   22.769285   20.140236   \n",
            "2    2014-06-04   22.765715   23.138929   22.718214   23.029285   20.370214   \n",
            "3    2014-06-05   23.078571   23.191786   22.950357   23.119642   20.450136   \n",
            "4    2014-06-06   23.210714   23.259287   23.016787   23.056070   20.393915   \n",
            "...         ...         ...         ...         ...         ...         ...   \n",
            "2513 2024-05-24  188.820007  190.580002  188.039993  189.979996  189.979996   \n",
            "2514 2024-05-28  191.509995  193.000000  189.100006  189.990005  189.990005   \n",
            "2515 2024-05-29  189.610001  192.250000  189.509995  190.289993  190.289993   \n",
            "2516 2024-05-30  190.759995  192.179993  190.630005  191.289993  191.289993   \n",
            "2517 2024-05-31  191.440002  192.570007  189.910004  192.250000  192.250000   \n",
            "\n",
            "         Volume  \n",
            "0     369350800  \n",
            "1     292709200  \n",
            "2     335482000  \n",
            "3     303805600  \n",
            "4     349938400  \n",
            "...         ...  \n",
            "2513   36294600  \n",
            "2514   52280100  \n",
            "2515   53068000  \n",
            "2516   49947900  \n",
            "2517   75158300  \n",
            "\n",
            "[2518 rows x 7 columns]\n",
            "\n",
            "\n",
            "second print                   Open        High         Low       Close   Adj Close  \\\n",
            "Date                                                                     \n",
            "2014-06-02   22.641430   22.672501   22.232143   22.451786   19.859396   \n",
            "2014-06-03   22.445000   22.812143   22.437500   22.769285   20.140236   \n",
            "2014-06-04   22.765715   23.138929   22.718214   23.029285   20.370214   \n",
            "2014-06-05   23.078571   23.191786   22.950357   23.119642   20.450136   \n",
            "2014-06-06   23.210714   23.259287   23.016787   23.056070   20.393915   \n",
            "...                ...         ...         ...         ...         ...   \n",
            "2024-05-24  188.820007  190.580002  188.039993  189.979996  189.979996   \n",
            "2024-05-28  191.509995  193.000000  189.100006  189.990005  189.990005   \n",
            "2024-05-29  189.610001  192.250000  189.509995  190.289993  190.289993   \n",
            "2024-05-30  190.759995  192.179993  190.630005  191.289993  191.289993   \n",
            "2024-05-31  191.440002  192.570007  189.910004  192.250000  192.250000   \n",
            "\n",
            "               Volume  \n",
            "Date                   \n",
            "2014-06-02  369350800  \n",
            "2014-06-03  292709200  \n",
            "2014-06-04  335482000  \n",
            "2014-06-05  303805600  \n",
            "2014-06-06  349938400  \n",
            "...               ...  \n",
            "2024-05-24   36294600  \n",
            "2024-05-28   52280100  \n",
            "2024-05-29   53068000  \n",
            "2024-05-30   49947900  \n",
            "2024-05-31   75158300  \n",
            "\n",
            "[2518 rows x 6 columns]\n",
            "\n",
            "\n"
          ]
        }
      ]
    },
    {
      "cell_type": "markdown",
      "source": [
        "**Handling missing values**"
      ],
      "metadata": {
        "id": "C_0NsEeCeP1a"
      }
    },
    {
      "cell_type": "code",
      "source": [
        "# Check for missing values\n",
        "missing_values = df1.isnull().sum()\n",
        "print(missing_values)"
      ],
      "metadata": {
        "colab": {
          "base_uri": "https://localhost:8080/"
        },
        "id": "-iceBmrba2X4",
        "outputId": "53dec68c-4f8f-4304-b675-5c696da5d9d3"
      },
      "execution_count": 7,
      "outputs": [
        {
          "output_type": "stream",
          "name": "stdout",
          "text": [
            "Open         0\n",
            "High         0\n",
            "Low          0\n",
            "Close        0\n",
            "Adj Close    0\n",
            "Volume       0\n",
            "dtype: int64\n"
          ]
        }
      ]
    },
    {
      "cell_type": "markdown",
      "source": [
        "**Feature Engineerig**\n",
        "\n"
      ],
      "metadata": {
        "id": "wZbaOVgxd6H-"
      }
    },
    {
      "cell_type": "code",
      "source": [
        "# Moving averages\n",
        "df1['MA10'] = df1['Adj Close'].rolling(window=10).mean()\n",
        "df1['MA50'] = df1['Adj Close'].rolling(window=50).mean()\n",
        "\n",
        "# Daily returns\n",
        "print('Daily returns')\n",
        "df1['Daily Return'] = df1['Adj Close'].pct_change()\n",
        "\n",
        "# Volatility\n",
        "print('volatility')\n",
        "df1['Volatility'] = df1['Daily Return'].rolling(window=10).std()\n",
        "\n",
        "print(df1)"
      ],
      "metadata": {
        "colab": {
          "base_uri": "https://localhost:8080/"
        },
        "id": "_ffzTCsndgvN",
        "outputId": "bf19b982-70b8-477a-9c1b-a8e1c2e2723e"
      },
      "execution_count": 8,
      "outputs": [
        {
          "output_type": "stream",
          "name": "stdout",
          "text": [
            "Daily returns\n",
            "volatility\n",
            "                  Open        High         Low       Close   Adj Close  \\\n",
            "Date                                                                     \n",
            "2014-06-02   22.641430   22.672501   22.232143   22.451786   19.859396   \n",
            "2014-06-03   22.445000   22.812143   22.437500   22.769285   20.140236   \n",
            "2014-06-04   22.765715   23.138929   22.718214   23.029285   20.370214   \n",
            "2014-06-05   23.078571   23.191786   22.950357   23.119642   20.450136   \n",
            "2014-06-06   23.210714   23.259287   23.016787   23.056070   20.393915   \n",
            "...                ...         ...         ...         ...         ...   \n",
            "2024-05-24  188.820007  190.580002  188.039993  189.979996  189.979996   \n",
            "2024-05-28  191.509995  193.000000  189.100006  189.990005  189.990005   \n",
            "2024-05-29  189.610001  192.250000  189.509995  190.289993  190.289993   \n",
            "2024-05-30  190.759995  192.179993  190.630005  191.289993  191.289993   \n",
            "2024-05-31  191.440002  192.570007  189.910004  192.250000  192.250000   \n",
            "\n",
            "               Volume        MA10        MA50  Daily Return  Volatility  \n",
            "Date                                                                     \n",
            "2014-06-02  369350800         NaN         NaN           NaN         NaN  \n",
            "2014-06-03  292709200         NaN         NaN      0.014141         NaN  \n",
            "2014-06-04  335482000         NaN         NaN      0.011419         NaN  \n",
            "2014-06-05  303805600         NaN         NaN      0.003923         NaN  \n",
            "2014-06-06  349938400         NaN         NaN     -0.002749         NaN  \n",
            "...               ...         ...         ...           ...         ...  \n",
            "2024-05-24   36294600  189.428998  175.735192      0.016588    0.011626  \n",
            "2024-05-28   52280100  189.799998  176.087269      0.000053    0.010579  \n",
            "2024-05-29   53068000  190.085998  176.423375      0.001579    0.010478  \n",
            "2024-05-30   49947900  190.242998  176.732345      0.005255    0.009907  \n",
            "2024-05-31   75158300  190.483998  177.008785      0.005019    0.009993  \n",
            "\n",
            "[2518 rows x 10 columns]\n"
          ]
        }
      ]
    },
    {
      "cell_type": "markdown",
      "source": [
        "**Dropping NaN**"
      ],
      "metadata": {
        "id": "5mUxcaZt21Zr"
      }
    },
    {
      "cell_type": "code",
      "source": [
        "print(pd.isna(df1).sum().sum())\n",
        "# Drop rows with NaNs\n",
        "df1.dropna(inplace=True)"
      ],
      "metadata": {
        "colab": {
          "base_uri": "https://localhost:8080/"
        },
        "id": "smBJoU8pxQJ8",
        "outputId": "0a929c0b-e492-489a-e8b9-a212bd0f53b3"
      },
      "execution_count": 9,
      "outputs": [
        {
          "output_type": "stream",
          "name": "stdout",
          "text": [
            "69\n"
          ]
        }
      ]
    },
    {
      "cell_type": "code",
      "source": [
        "scaler = MinMaxScaler()\n",
        "\n",
        "# Scaling the features except for the target variable (Adj Close)\n",
        "df1[['Open', 'High', 'Low', 'Close', 'Volume', 'MA10', 'MA50', 'Daily Return', 'Volatility']] = scaler.fit_transform(\n",
        "    df1[['Open', 'High', 'Low', 'Close', 'Volume', 'MA10', 'MA50', 'Daily Return', 'Volatility']])"
      ],
      "metadata": {
        "id": "pe5itfjiehwl"
      },
      "execution_count": 10,
      "outputs": []
    },
    {
      "cell_type": "markdown",
      "source": [
        "**Setting data for model prepration**"
      ],
      "metadata": {
        "id": "AfIT0zLLsoDg"
      }
    },
    {
      "cell_type": "code",
      "source": [
        "# Define features and target variable\n",
        "features = ['Open', 'High', 'Low', 'Close', 'Volume', 'MA10', 'MA50', 'Daily Return', 'Volatility']\n",
        "X = df1[features]\n",
        "y = df1['Adj Close']"
      ],
      "metadata": {
        "id": "H5I2IeMUscUL"
      },
      "execution_count": 11,
      "outputs": []
    },
    {
      "cell_type": "markdown",
      "source": [
        "**Data Sampling for test-train**"
      ],
      "metadata": {
        "id": "cqq2UK0Jsxyw"
      }
    },
    {
      "cell_type": "code",
      "source": [
        "X_train, X_test, y_train, y_test = train_test_split(X, y, test_size=0.2, shuffle=False)"
      ],
      "metadata": {
        "id": "XRHJR0p1shU1"
      },
      "execution_count": 12,
      "outputs": []
    },
    {
      "cell_type": "code",
      "source": [
        "# K-NN model\n",
        "knn_model = KNeighborsRegressor()\n",
        "\n",
        "# Hyperparameter tuning using GridSearchCV\n",
        "HyperParams = {'n_neighbors': range(1, 20)}\n",
        "grid_search_cv = GridSearchCV(knn_model, HyperParams, cv=5, scoring='neg_mean_squared_error')\n",
        "grid_search_cv.fit(X_train, y_train)\n",
        "\n",
        "# K-NN model best_estimator\n",
        "best_knn_est = grid_search_cv.best_estimator_\n",
        "\n",
        "# Model Train on training data set\n",
        "best_knn_est.fit(X_train, y_train)\n",
        "\n",
        "# Performing prediction on test data set\n",
        "y_pred = best_knn_est.predict(X_test)\n",
        "\n",
        "# Model Evaluation\n",
        "K_mse = mean_squared_error(y_test, y_pred)\n",
        "rmse = K_mse ** 0.5\n",
        "\n",
        "print(f\"Best K-NN model: {best_knn_est}\")\n",
        "print(f\"RMSE on test set: {rmse}\")\n",
        "\n",
        "# Predicting the Adj Close price for the next day\n",
        "next_day_features_KNN = X.iloc[-1].values.reshape(1, -1)\n",
        "next_day_prediction_KNN = best_knn_est.predict(next_day_features_KNN)\n",
        "print(f\"Predicted Adj Close price for the next day: {next_day_prediction_KNN[0]}\")"
      ],
      "metadata": {
        "colab": {
          "base_uri": "https://localhost:8080/"
        },
        "id": "k-TSkxW_yNU2",
        "outputId": "2ae4062e-1991-437c-9466-d522392bdd91"
      },
      "execution_count": 13,
      "outputs": [
        {
          "output_type": "stream",
          "name": "stdout",
          "text": [
            "Best K-NN model: KNeighborsRegressor(n_neighbors=1)\n",
            "RMSE on test set: 7.096278183634583\n",
            "Predicted Adj Close price for the next day: 177.203201\n"
          ]
        },
        {
          "output_type": "stream",
          "name": "stderr",
          "text": [
            "/usr/local/lib/python3.10/dist-packages/sklearn/base.py:439: UserWarning: X does not have valid feature names, but KNeighborsRegressor was fitted with feature names\n",
            "  warnings.warn(\n"
          ]
        }
      ]
    },
    {
      "cell_type": "code",
      "source": [
        "# Step 4: XGBoost Model\n",
        "xgb_model = XGBRegressor(objective='reg:squarederror')\n",
        "xgb_model.fit(X_train, y_train)\n",
        "\n",
        "# Predict on the test set\n",
        "y_pred = xgb_model.predict(X_test)\n",
        "\n",
        "# Evaluate the model\n",
        "XGB_mse = mean_squared_error(y_test, y_pred)\n",
        "rmse = XGB_mse ** 0.5\n",
        "\n",
        "print(f\"RMSE on test set: {rmse}\")\n",
        "\n",
        "# Predicting the Adj Close price for the next day\n",
        "next_day_features_XGB = pd.DataFrame([X.iloc[-1]], columns=features)\n",
        "next_day_features_scaled = scaler.transform(next_day_features_XGB)\n",
        "next_day_prediction_XGB = xgb_model.predict(next_day_features_scaled)\n",
        "print(f\"Predicted Adj Close price for the next day: {next_day_prediction_XGB[0]}\")"
      ],
      "metadata": {
        "colab": {
          "base_uri": "https://localhost:8080/"
        },
        "id": "VqjzXQNXSpPs",
        "outputId": "665a34b2-03ff-4d1d-ece9-a8d6e51bfc74"
      },
      "execution_count": 14,
      "outputs": [
        {
          "output_type": "stream",
          "name": "stdout",
          "text": [
            "RMSE on test set: 6.467728803667712\n",
            "Predicted Adj Close price for the next day: 21.71510887145996\n"
          ]
        }
      ]
    },
    {
      "cell_type": "markdown",
      "source": [
        "**Implementing LSTM models**"
      ],
      "metadata": {
        "id": "bIo-FvlJvByR"
      }
    },
    {
      "cell_type": "code",
      "source": [
        "# Reshape input data for LSTM in [samples, time steps, features]\n",
        "X_train_LSTM = np.reshape(X_train.values, (X_train.shape[0], 1, X_train.shape[1]))\n",
        "X_test_LSTM = np.reshape(X_test.values, (X_test.shape[0], 1, X_test.shape[1]))\n",
        "\n",
        "# LSTM model build\n",
        "model_LSTM = Sequential()\n",
        "model_LSTM.add(LSTM(units=50, return_sequences=True, input_shape=(X_train_LSTM.shape[1], X_test_LSTM.shape[2])))\n",
        "model_LSTM.add(Dropout(0.2))\n",
        "model_LSTM.add(LSTM(units=50, return_sequences=False))\n",
        "model_LSTM.add(Dropout(0.2))\n",
        "model_LSTM.add(Dense(units=1))\n",
        "\n",
        "# model compliation\n",
        "model_LSTM.compile(optimizer='adam', loss='mean_squared_error')\n",
        "\n",
        "# Train the model\n",
        "model_LSTM.fit(X_train_LSTM, y_train, epochs=50, batch_size=32)"
      ],
      "metadata": {
        "colab": {
          "base_uri": "https://localhost:8080/"
        },
        "id": "dR6jJ-sMu_5w",
        "outputId": "ed177e81-2ad7-4d41-aa6a-1d86efae8bd4"
      },
      "execution_count": 18,
      "outputs": [
        {
          "output_type": "stream",
          "name": "stdout",
          "text": [
            "Epoch 1/50\n",
            "62/62 [==============================] - 4s 5ms/step - loss: 5975.1367\n",
            "Epoch 2/50\n",
            "62/62 [==============================] - 0s 5ms/step - loss: 5256.6660\n",
            "Epoch 3/50\n",
            "62/62 [==============================] - 0s 5ms/step - loss: 4485.9419\n",
            "Epoch 4/50\n",
            "62/62 [==============================] - 0s 5ms/step - loss: 4080.3743\n",
            "Epoch 5/50\n",
            "62/62 [==============================] - 0s 5ms/step - loss: 3810.6255\n",
            "Epoch 6/50\n",
            "62/62 [==============================] - 0s 5ms/step - loss: 3582.2463\n",
            "Epoch 7/50\n",
            "62/62 [==============================] - 0s 5ms/step - loss: 3408.8562\n",
            "Epoch 8/50\n",
            "62/62 [==============================] - 0s 5ms/step - loss: 3251.4253\n",
            "Epoch 9/50\n",
            "62/62 [==============================] - 0s 5ms/step - loss: 3101.5879\n",
            "Epoch 10/50\n",
            "62/62 [==============================] - 0s 5ms/step - loss: 2980.5042\n",
            "Epoch 11/50\n",
            "62/62 [==============================] - 0s 5ms/step - loss: 2860.0315\n",
            "Epoch 12/50\n",
            "62/62 [==============================] - 0s 5ms/step - loss: 2760.5964\n",
            "Epoch 13/50\n",
            "62/62 [==============================] - 0s 5ms/step - loss: 2667.4077\n",
            "Epoch 14/50\n",
            "62/62 [==============================] - 0s 7ms/step - loss: 2565.9324\n",
            "Epoch 15/50\n",
            "62/62 [==============================] - 1s 12ms/step - loss: 2446.8455\n",
            "Epoch 16/50\n",
            "62/62 [==============================] - 1s 12ms/step - loss: 2355.5964\n",
            "Epoch 17/50\n",
            "62/62 [==============================] - 1s 9ms/step - loss: 2253.3035\n",
            "Epoch 18/50\n",
            "62/62 [==============================] - 1s 11ms/step - loss: 2143.8955\n",
            "Epoch 19/50\n",
            "62/62 [==============================] - 1s 13ms/step - loss: 2054.7029\n",
            "Epoch 20/50\n",
            "62/62 [==============================] - 1s 13ms/step - loss: 1960.1997\n",
            "Epoch 21/50\n",
            "62/62 [==============================] - 1s 15ms/step - loss: 1886.1074\n",
            "Epoch 22/50\n",
            "62/62 [==============================] - 1s 15ms/step - loss: 1819.9120\n",
            "Epoch 23/50\n",
            "62/62 [==============================] - 1s 21ms/step - loss: 1736.8905\n",
            "Epoch 24/50\n",
            "62/62 [==============================] - 1s 19ms/step - loss: 1662.5242\n",
            "Epoch 25/50\n",
            "62/62 [==============================] - 1s 12ms/step - loss: 1609.3475\n",
            "Epoch 26/50\n",
            "62/62 [==============================] - 1s 13ms/step - loss: 1536.5598\n",
            "Epoch 27/50\n",
            "62/62 [==============================] - 0s 6ms/step - loss: 1466.3561\n",
            "Epoch 28/50\n",
            "62/62 [==============================] - 0s 5ms/step - loss: 1419.1583\n",
            "Epoch 29/50\n",
            "62/62 [==============================] - 0s 6ms/step - loss: 1338.6410\n",
            "Epoch 30/50\n",
            "62/62 [==============================] - 1s 10ms/step - loss: 1300.2566\n",
            "Epoch 31/50\n",
            "62/62 [==============================] - 1s 11ms/step - loss: 1246.2097\n",
            "Epoch 32/50\n",
            "62/62 [==============================] - 1s 12ms/step - loss: 1201.4111\n",
            "Epoch 33/50\n",
            "62/62 [==============================] - 1s 9ms/step - loss: 1136.0631\n",
            "Epoch 34/50\n",
            "62/62 [==============================] - 1s 10ms/step - loss: 1098.8049\n",
            "Epoch 35/50\n",
            "62/62 [==============================] - 1s 13ms/step - loss: 1038.3124\n",
            "Epoch 36/50\n",
            "62/62 [==============================] - 1s 13ms/step - loss: 986.1907\n",
            "Epoch 37/50\n",
            "62/62 [==============================] - 1s 9ms/step - loss: 953.8925\n",
            "Epoch 38/50\n",
            "62/62 [==============================] - 0s 7ms/step - loss: 906.4684\n",
            "Epoch 39/50\n",
            "62/62 [==============================] - 1s 10ms/step - loss: 876.1297\n",
            "Epoch 40/50\n",
            "62/62 [==============================] - 1s 16ms/step - loss: 830.6577\n",
            "Epoch 41/50\n",
            "62/62 [==============================] - 1s 18ms/step - loss: 787.6091\n",
            "Epoch 42/50\n",
            "62/62 [==============================] - 2s 25ms/step - loss: 756.3990\n",
            "Epoch 43/50\n",
            "62/62 [==============================] - 1s 23ms/step - loss: 722.9891\n",
            "Epoch 44/50\n",
            "62/62 [==============================] - 2s 24ms/step - loss: 697.5449\n",
            "Epoch 45/50\n",
            "62/62 [==============================] - 1s 20ms/step - loss: 656.1746\n",
            "Epoch 46/50\n",
            "62/62 [==============================] - 0s 8ms/step - loss: 622.7825\n",
            "Epoch 47/50\n",
            "62/62 [==============================] - 1s 10ms/step - loss: 580.7061\n",
            "Epoch 48/50\n",
            "62/62 [==============================] - 1s 10ms/step - loss: 575.3344\n",
            "Epoch 49/50\n",
            "62/62 [==============================] - 1s 12ms/step - loss: 540.0479\n",
            "Epoch 50/50\n",
            "62/62 [==============================] - 1s 12ms/step - loss: 513.7604\n"
          ]
        },
        {
          "output_type": "execute_result",
          "data": {
            "text/plain": [
              "<keras.src.callbacks.History at 0x7e91082fd480>"
            ]
          },
          "metadata": {},
          "execution_count": 18
        }
      ]
    },
    {
      "cell_type": "markdown",
      "source": [
        "**Implementing Random forest model**"
      ],
      "metadata": {
        "id": "Jw2EYqlGvcPR"
      }
    },
    {
      "cell_type": "code",
      "source": [
        "# LSTM model prediction\n",
        "train_LSTM_prediction = model_LSTM.predict(X_train_LSTM)\n",
        "test_LSTM_prediction = model_LSTM.predict(X_test_LSTM)\n",
        "\n",
        "# Feature prediction LSTM\n",
        "\n",
        "RF_train_X = X_train.copy()\n",
        "RF_test_X = X_test.copy()\n",
        "RF_train_X['LSTM_Pred'] = train_LSTM_prediction\n",
        "RF_test_X['LSTM_Pred'] = test_LSTM_prediction\n",
        "\n",
        "# Train Random Forest model\n",
        "rf_model = RandomForestRegressor(n_estimators=100, random_state=42)\n",
        "rf_model.fit(RF_train_X, y_train)"
      ],
      "metadata": {
        "colab": {
          "base_uri": "https://localhost:8080/",
          "height": 109
        },
        "id": "hS5zp43JvbNG",
        "outputId": "6c3b00f9-d408-4d76-a08d-eb331ae3e3c4"
      },
      "execution_count": 21,
      "outputs": [
        {
          "output_type": "stream",
          "name": "stdout",
          "text": [
            "62/62 [==============================] - 0s 3ms/step\n",
            "16/16 [==============================] - 0s 3ms/step\n"
          ]
        },
        {
          "output_type": "execute_result",
          "data": {
            "text/plain": [
              "RandomForestRegressor(random_state=42)"
            ],
            "text/html": [
              "<style>#sk-container-id-3 {color: black;background-color: white;}#sk-container-id-3 pre{padding: 0;}#sk-container-id-3 div.sk-toggleable {background-color: white;}#sk-container-id-3 label.sk-toggleable__label {cursor: pointer;display: block;width: 100%;margin-bottom: 0;padding: 0.3em;box-sizing: border-box;text-align: center;}#sk-container-id-3 label.sk-toggleable__label-arrow:before {content: \"▸\";float: left;margin-right: 0.25em;color: #696969;}#sk-container-id-3 label.sk-toggleable__label-arrow:hover:before {color: black;}#sk-container-id-3 div.sk-estimator:hover label.sk-toggleable__label-arrow:before {color: black;}#sk-container-id-3 div.sk-toggleable__content {max-height: 0;max-width: 0;overflow: hidden;text-align: left;background-color: #f0f8ff;}#sk-container-id-3 div.sk-toggleable__content pre {margin: 0.2em;color: black;border-radius: 0.25em;background-color: #f0f8ff;}#sk-container-id-3 input.sk-toggleable__control:checked~div.sk-toggleable__content {max-height: 200px;max-width: 100%;overflow: auto;}#sk-container-id-3 input.sk-toggleable__control:checked~label.sk-toggleable__label-arrow:before {content: \"▾\";}#sk-container-id-3 div.sk-estimator input.sk-toggleable__control:checked~label.sk-toggleable__label {background-color: #d4ebff;}#sk-container-id-3 div.sk-label input.sk-toggleable__control:checked~label.sk-toggleable__label {background-color: #d4ebff;}#sk-container-id-3 input.sk-hidden--visually {border: 0;clip: rect(1px 1px 1px 1px);clip: rect(1px, 1px, 1px, 1px);height: 1px;margin: -1px;overflow: hidden;padding: 0;position: absolute;width: 1px;}#sk-container-id-3 div.sk-estimator {font-family: monospace;background-color: #f0f8ff;border: 1px dotted black;border-radius: 0.25em;box-sizing: border-box;margin-bottom: 0.5em;}#sk-container-id-3 div.sk-estimator:hover {background-color: #d4ebff;}#sk-container-id-3 div.sk-parallel-item::after {content: \"\";width: 100%;border-bottom: 1px solid gray;flex-grow: 1;}#sk-container-id-3 div.sk-label:hover label.sk-toggleable__label {background-color: #d4ebff;}#sk-container-id-3 div.sk-serial::before {content: \"\";position: absolute;border-left: 1px solid gray;box-sizing: border-box;top: 0;bottom: 0;left: 50%;z-index: 0;}#sk-container-id-3 div.sk-serial {display: flex;flex-direction: column;align-items: center;background-color: white;padding-right: 0.2em;padding-left: 0.2em;position: relative;}#sk-container-id-3 div.sk-item {position: relative;z-index: 1;}#sk-container-id-3 div.sk-parallel {display: flex;align-items: stretch;justify-content: center;background-color: white;position: relative;}#sk-container-id-3 div.sk-item::before, #sk-container-id-3 div.sk-parallel-item::before {content: \"\";position: absolute;border-left: 1px solid gray;box-sizing: border-box;top: 0;bottom: 0;left: 50%;z-index: -1;}#sk-container-id-3 div.sk-parallel-item {display: flex;flex-direction: column;z-index: 1;position: relative;background-color: white;}#sk-container-id-3 div.sk-parallel-item:first-child::after {align-self: flex-end;width: 50%;}#sk-container-id-3 div.sk-parallel-item:last-child::after {align-self: flex-start;width: 50%;}#sk-container-id-3 div.sk-parallel-item:only-child::after {width: 0;}#sk-container-id-3 div.sk-dashed-wrapped {border: 1px dashed gray;margin: 0 0.4em 0.5em 0.4em;box-sizing: border-box;padding-bottom: 0.4em;background-color: white;}#sk-container-id-3 div.sk-label label {font-family: monospace;font-weight: bold;display: inline-block;line-height: 1.2em;}#sk-container-id-3 div.sk-label-container {text-align: center;}#sk-container-id-3 div.sk-container {/* jupyter's `normalize.less` sets `[hidden] { display: none; }` but bootstrap.min.css set `[hidden] { display: none !important; }` so we also need the `!important` here to be able to override the default hidden behavior on the sphinx rendered scikit-learn.org. See: https://github.com/scikit-learn/scikit-learn/issues/21755 */display: inline-block !important;position: relative;}#sk-container-id-3 div.sk-text-repr-fallback {display: none;}</style><div id=\"sk-container-id-3\" class=\"sk-top-container\"><div class=\"sk-text-repr-fallback\"><pre>RandomForestRegressor(random_state=42)</pre><b>In a Jupyter environment, please rerun this cell to show the HTML representation or trust the notebook. <br />On GitHub, the HTML representation is unable to render, please try loading this page with nbviewer.org.</b></div><div class=\"sk-container\" hidden><div class=\"sk-item\"><div class=\"sk-estimator sk-toggleable\"><input class=\"sk-toggleable__control sk-hidden--visually\" id=\"sk-estimator-id-3\" type=\"checkbox\" checked><label for=\"sk-estimator-id-3\" class=\"sk-toggleable__label sk-toggleable__label-arrow\">RandomForestRegressor</label><div class=\"sk-toggleable__content\"><pre>RandomForestRegressor(random_state=42)</pre></div></div></div></div></div>"
            ]
          },
          "metadata": {},
          "execution_count": 21
        }
      ]
    },
    {
      "cell_type": "markdown",
      "source": [
        "**Hybrid prediction LSTM-RF**"
      ],
      "metadata": {
        "id": "PVx7COplwAZ8"
      }
    },
    {
      "cell_type": "code",
      "source": [
        "# Random Forest model prediction\n",
        "train_rf_prediction = rf_model.predict(RF_train_X)\n",
        "test_rf_prediction = rf_model.predict(RF_test_X)\n",
        "\n",
        "# LSTM-RF Combine predictions\n",
        "train_predictions = (train_LSTM_prediction.flatten() + train_rf_prediction) / 2\n",
        "test_predictions = (test_LSTM_prediction.flatten() + test_rf_prediction) / 2\n",
        "\n",
        "train_mse = mean_squared_error(y_train, train_predictions)\n",
        "test_mse = mean_squared_error(y_test, test_predictions)\n"
      ],
      "metadata": {
        "id": "q58j5m4hwHp-"
      },
      "execution_count": 22,
      "outputs": []
    }
  ]
}